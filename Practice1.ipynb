{
  "nbformat": 4,
  "nbformat_minor": 0,
  "metadata": {
    "colab": {
      "name": "Practice1.ipynb",
      "provenance": [],
      "collapsed_sections": [
        "8SRweZEd4UIj"
      ],
      "include_colab_link": true
    },
    "kernelspec": {
      "name": "python3",
      "display_name": "Python 3"
    },
    "language_info": {
      "name": "python"
    },
    "accelerator": "GPU"
  },
  "cells": [
    {
      "cell_type": "markdown",
      "metadata": {
        "id": "view-in-github",
        "colab_type": "text"
      },
      "source": [
        "<a href=\"https://colab.research.google.com/github/Luzinsan/OPD_neuro/blob/main/Practice1.ipynb\" target=\"_parent\"><img src=\"https://colab.research.google.com/assets/colab-badge.svg\" alt=\"Open In Colab\"/></a>"
      ]
    },
    {
      "cell_type": "markdown",
      "metadata": {
        "id": "8SRweZEd4UIj"
      },
      "source": [
        "# ***Подготовка входных данных***"
      ]
    },
    {
      "cell_type": "code",
      "metadata": {
        "colab": {
          "base_uri": "https://localhost:8080/"
        },
        "id": "CzGhMysYMNCi",
        "outputId": "31385eb5-8a1a-43c1-adf7-8bb5cb78a748"
      },
      "source": [
        "!ls"
      ],
      "execution_count": 48,
      "outputs": [
        {
          "output_type": "stream",
          "name": "stdout",
          "text": [
            "balance  balance.zip  dee  dee.zip  ecoli  ecoli.zip  sample_data\n"
          ]
        }
      ]
    },
    {
      "cell_type": "code",
      "metadata": {
        "colab": {
          "base_uri": "https://localhost:8080/"
        },
        "id": "3B1iSeloMa8R",
        "outputId": "1e86ca4c-8622-4da2-c976-542496719800"
      },
      "source": [
        "!unzip \"dee.zip\" -d \"dee\""
      ],
      "execution_count": 49,
      "outputs": [
        {
          "output_type": "stream",
          "name": "stdout",
          "text": [
            "Archive:  dee.zip\n",
            "replace dee/dee.dat? [y]es, [n]o, [A]ll, [N]one, [r]ename: n\n"
          ]
        }
      ]
    },
    {
      "cell_type": "code",
      "metadata": {
        "id": "vmT3BOuw3PWy"
      },
      "source": [
        "def load_keel(file_path):\n",
        "    file_path = Path(file_path)\n",
        "    return KeelParser()(file_path.read_text())"
      ],
      "execution_count": 50,
      "outputs": []
    },
    {
      "cell_type": "code",
      "metadata": {
        "id": "T_Z07uQe3uYz"
      },
      "source": [
        "import re\n",
        "from pathlib import Path\n",
        "from pandas import DataFrame, Categorical, to_numeric\n",
        "import numpy as np\n",
        "from functools import partial\n",
        "from sklearn.preprocessing import LabelEncoder\n",
        "\n",
        "class DataScheme:\n",
        "    def __init__(self, data_name, attributes, inputs, outputs, X, y):\n",
        "        self.data_name = data_name\n",
        "        self.inputs = inputs\n",
        "        self.outputs = outputs\n",
        "        self.attributes = attributes\n",
        "        self.X = X\n",
        "        self.y = y\n",
        "\n",
        "\n",
        "\n",
        "class KeelParser:\n",
        "    def __call__(self, data):\n",
        "        self.data = data\n",
        "\n",
        "        data_name = self.get_data_name()\n",
        "        attributes = self.get_attributes()\n",
        "        inputs = self.get_inputs()\n",
        "        outputs = self.get_outputs()\n",
        "        data_frame = self.get_data()\n",
        "        data_frame.columns = [*inputs, *outputs]\n",
        "        X = np.array(data_frame[inputs])\n",
        "        y = np.array(data_frame[outputs]).ravel()\n",
        "\n",
        "        if len(outputs) > 1:\n",
        "            raise Exception('Multiple outputs in dataset not yet supported')\n",
        "        if attributes[outputs[0]][0] == 'nominal':\n",
        "            y = Categorical(\n",
        "                y,\n",
        "                ordered=False,\n",
        "                categories=attributes[outputs[0]][1]\n",
        "            ).codes\n",
        "        elif attributes[outputs[0]][0] == 'real':\n",
        "            y = np.array(y, dtype=float)\n",
        "        return DataScheme(data_name, attributes, inputs, outputs, X, y)\n",
        "\n",
        "    def get_data_name(self):\n",
        "        \"\"\"\n",
        "        Функция для получения названия набора данных\n",
        "        :return:\n",
        "        \"\"\"\n",
        "        parsed = re.search(r'^@relation\\s+(\\S+)$', self.data, re.MULTILINE)\n",
        "        return parsed.group(1)\n",
        "\n",
        "    def get_attributes(self):\n",
        "        \"\"\"\n",
        "        Функция для получения описаний входных и выходных параметров\n",
        "        набора данных\n",
        "        :return:\n",
        "        \"\"\"\n",
        "        attributes = dict()\n",
        "        if \"Attribute\" in self.data:\n",
        "            parsed = re.findall(r'^@Attribute\\s+(.+)$', self.data,\n",
        "                                re.MULTILINE)\n",
        "        else:\n",
        "            parsed = re.findall(r'^@attribute\\s+(.+)$', self.data,\n",
        "                                re.MULTILINE)\n",
        "\n",
        "        for att in parsed:\n",
        "            if '{' in att:\n",
        "                name = att[:att.index('{')].strip()\n",
        "                att = att[att.index('{'):]\n",
        "                for char in '{}':\n",
        "                    att = att.replace(char, '')\n",
        "                att = att.replace(\" \", \"\")\n",
        "                att = att.split(',')\n",
        "                attributes[name] = ['nominal', att]\n",
        "            else:\n",
        "                if 'real' in att or 'integer' in att:\n",
        "                    name = att[:att.index(' ')]\n",
        "                    att = att[att.index(' ') + 1:]\n",
        "                    att_type = att[:att.index('[')].strip()\n",
        "                    att = att[att.index('['):]\n",
        "                    for char in '[]':\n",
        "                        att = att.replace(char, '')\n",
        "                    attributes[name] = [\n",
        "                        att_type, att.replace(' ', '').split(',')]\n",
        "                else:\n",
        "                    if 'numeric' in att:\n",
        "                        att = att.split(' ')\n",
        "                        attributes[att[0].strip()] = ['numeric']\n",
        "                    else:\n",
        "                        raise Exception(\n",
        "                            f'Error during @attribute line parse: {att}')\n",
        "\n",
        "        return attributes\n",
        "\n",
        "    def get_inputs(self):\n",
        "        \"\"\"\n",
        "        Функция для получения списка входных параметров набора данных\n",
        "        :return:\n",
        "        \"\"\"\n",
        "        parsed = re.search(r'^@inputs\\s+(.+)$', self.data, re.MULTILINE)\n",
        "        return [j.strip() for j in parsed.group(1).split(',')]\n",
        "\n",
        "    def get_outputs(self):\n",
        "        \"\"\"\n",
        "        Функция для получения списка выходных меток набора данных\n",
        "        :return:\n",
        "        \"\"\"\n",
        "        if \"outputs\" in self.data:\n",
        "            parsed = re.search(r'^@outputs\\s+(.+)$', self.data, re.MULTILINE)\n",
        "        else:\n",
        "            parsed = re.search(r'^@output\\s+(.+)$', self.data, re.MULTILINE)\n",
        "\n",
        "        return [x.strip() for x in parsed.group(1).split(',')]\n",
        "\n",
        "    def get_data(self):\n",
        "        \"\"\"\n",
        "        Функция для получения данных из выбранного набора\n",
        "        :return:\n",
        "        \"\"\"\n",
        "        parsed = re.search(\n",
        "            r'^@data\\n(.+)', self.data, flags=re.MULTILINE | re.DOTALL)\n",
        "        data = np.array([\n",
        "            re.split(r', ?', item) for item in parsed.group(1).splitlines()])\n",
        "        dim = len(data[0])\n",
        "        ys = np.copy(data[:, dim - 1])\n",
        "        data[:, dim - 1] = 0\n",
        "        df = DataFrame(data=data)\n",
        "        df = df.apply(partial(to_numeric, errors='ignore'))\n",
        "        if not (df.select_dtypes(['object']).empty):\n",
        "            df.loc[:, df.dtypes == 'object'] = df.select_dtypes([\n",
        "                'object'\n",
        "            ]).apply(lambda x:\n",
        "                     (LabelEncoder().fit_transform(x)).astype('float'))\n",
        "        df[dim - 1] = df[dim - 1].astype(str)\n",
        "        df[dim - 1] = ys\n",
        "\n",
        "        return df"
      ],
      "execution_count": 51,
      "outputs": []
    },
    {
      "cell_type": "code",
      "metadata": {
        "id": "rlsPg89WMnIx"
      },
      "source": [
        "import os\n",
        "\n",
        "FILE_PATH = '/content/dee'\n",
        "MAIN_FILE_NAME = 'dee.dat'\n",
        "\n",
        "data = load_keel('/content/dee/dee.dat')\n",
        "\n",
        "dee = data"
      ],
      "execution_count": 52,
      "outputs": []
    },
    {
      "cell_type": "code",
      "metadata": {
        "id": "uSiDz5fOplbm"
      },
      "source": [
        "import numpy as np\n",
        "import pandas as pd\n",
        "import matplotlib.pyplot as plt\n",
        "from sklearn import datasets"
      ],
      "execution_count": 53,
      "outputs": []
    },
    {
      "cell_type": "code",
      "metadata": {
        "id": "GI0vLMf89k8b"
      },
      "source": [
        "import tensorflow as tf"
      ],
      "execution_count": 54,
      "outputs": []
    },
    {
      "cell_type": "markdown",
      "metadata": {
        "id": "Bp3iHLMD9dub"
      },
      "source": [
        "# ***Решение задачи регрессии***"
      ]
    },
    {
      "cell_type": "code",
      "metadata": {
        "colab": {
          "base_uri": "https://localhost:8080/"
        },
        "id": "BpWTkopXwy7m",
        "outputId": "b424dd9f-9a90-4875-c28f-9b87d2c889c0"
      },
      "source": [
        "#Определение функции, создающей модель-регрессор\n",
        "def build_model(my_learning_rate):\n",
        "  \"\"\"Create and compile a simple linear regression model.\"\"\"\n",
        "  # Большинство tf.keras моделей представляют собой простую последовательность слоев -\n",
        "  # sequential.\n",
        "  model = tf.keras.models.Sequential()\n",
        "\n",
        "  # Описание архитектуры модели\n",
        "  model.add(tf.keras.layers.Dense(units=1, \n",
        "                                  input_shape=(1,)))\n",
        "\n",
        "  # Компиляция модели\n",
        "  model.compile(optimizer=tf.keras.optimizers.RMSprop(lr=my_learning_rate),\n",
        "                loss=\"mean_squared_error\",\n",
        "                metrics=[tf.keras.metrics.RootMeanSquaredError()])\n",
        "\n",
        "  return model           \n",
        "\n",
        "print(\"Defined create_model\")\n"
      ],
      "execution_count": 55,
      "outputs": [
        {
          "output_type": "stream",
          "name": "stdout",
          "text": [
            "Defined create_model\n"
          ]
        }
      ]
    },
    {
      "cell_type": "code",
      "metadata": {
        "colab": {
          "base_uri": "https://localhost:8080/"
        },
        "id": "ChIm2Jta93Aw",
        "outputId": "f078dde5-fc09-4152-c450-36c75a5b804e"
      },
      "source": [
        "def train_model(model, feature, label, epochs, batch_size):\n",
        "  \"\"\"Train the model by feeding it data.\"\"\"\n",
        "\n",
        "  # Задание параметров обучения и запуск обучения\n",
        "  history = model.fit(x=feature,\n",
        "                      y=label,\n",
        "                      batch_size=batch_size,\n",
        "                      epochs=epochs)\n",
        "\n",
        "  # Получения параметров модели - линейного слоя\n",
        "  trained_weight = model.get_weights()[0]\n",
        "  trained_bias = model.get_weights()[1]\n",
        "\n",
        "  epochs = history.epoch\n",
        "  \n",
        "  hist = pd.DataFrame(history.history)\n",
        "\n",
        "  rmse = hist[\"root_mean_squared_error\"]\n",
        "\n",
        "  return trained_weight, trained_bias, epochs, rmse\n",
        "\n",
        "print(\"Defined ctrain_model\")"
      ],
      "execution_count": 56,
      "outputs": [
        {
          "output_type": "stream",
          "name": "stdout",
          "text": [
            "Defined ctrain_model\n"
          ]
        }
      ]
    },
    {
      "cell_type": "code",
      "metadata": {
        "colab": {
          "base_uri": "https://localhost:8080/"
        },
        "id": "ftTjMlGex_VT",
        "outputId": "c7603d0a-d381-484d-d5cd-8339a0921243"
      },
      "source": [
        "def plot_the_loss_curve(epochs, rmse):\n",
        "  \"\"\"График лосс-значений/эпохи\"\"\"\n",
        "\n",
        "  plt.figure()\n",
        "  plt.xlabel(\"Epoch\")\n",
        "  plt.ylabel(\"Root Mean Squared Error\")\n",
        "\n",
        "  plt.plot(epochs, rmse, label=\"Loss\")\n",
        "  plt.legend()\n",
        "  plt.ylim([rmse.min()*0.97, rmse.max()])\n",
        "  plt.show()\n",
        "\n",
        "print(\"Defined the plot_the_model and plot_the_loss_curve functions.\")"
      ],
      "execution_count": 57,
      "outputs": [
        {
          "output_type": "stream",
          "name": "stdout",
          "text": [
            "Defined the plot_the_model and plot_the_loss_curve functions.\n"
          ]
        }
      ]
    },
    {
      "cell_type": "markdown",
      "metadata": {
        "id": "E_azve9f8P1s"
      },
      "source": [
        "Определяем X, y (my_feature, label)"
      ]
    },
    {
      "cell_type": "code",
      "metadata": {
        "id": "NrySNbZiyBiH"
      },
      "source": [
        "my_feature = ([1.0, 2.0,  3.0,  4.0,  5.0,  6.0,  7.0,  8.0,  9.0, 10.0, 11.0, 12.0])\n",
        "my_label   = ([5.0, 8.8,  9.6, 14.2, 18.8, 19.5, 21.4, 26.8, 28.9, 32.0, 33.8, 38.2])"
      ],
      "execution_count": 58,
      "outputs": []
    },
    {
      "cell_type": "code",
      "metadata": {
        "colab": {
          "base_uri": "https://localhost:8080/"
        },
        "id": "kbQKisq5ygBd",
        "outputId": "d48f7ee9-43b8-4f25-db48-6de845243ce7"
      },
      "source": [
        "learning_rate=0.15\n",
        "epochs=40\n",
        "my_batch_size=12\n",
        "\n",
        "my_model = build_model(learning_rate)\n",
        "trained_weight, trained_bias, epochs, rmse = train_model(my_model, my_feature, \n",
        "                                                         my_label, epochs,\n",
        "                                                         my_batch_size)"
      ],
      "execution_count": 59,
      "outputs": [
        {
          "output_type": "stream",
          "name": "stdout",
          "text": [
            "Epoch 1/40\n"
          ]
        },
        {
          "output_type": "stream",
          "name": "stderr",
          "text": [
            "/usr/local/lib/python3.7/dist-packages/keras/optimizer_v2/optimizer_v2.py:356: UserWarning: The `lr` argument is deprecated, use `learning_rate` instead.\n",
            "  \"The `lr` argument is deprecated, use `learning_rate` instead.\")\n"
          ]
        },
        {
          "output_type": "stream",
          "name": "stdout",
          "text": [
            "1/1 [==============================] - 0s 338ms/step - loss: 386.7163 - root_mean_squared_error: 19.6651\n",
            "Epoch 2/40\n",
            "1/1 [==============================] - 0s 8ms/step - loss: 248.2006 - root_mean_squared_error: 15.7544\n",
            "Epoch 3/40\n",
            "1/1 [==============================] - 0s 5ms/step - loss: 175.1364 - root_mean_squared_error: 13.2339\n",
            "Epoch 4/40\n",
            "1/1 [==============================] - 0s 5ms/step - loss: 127.6589 - root_mean_squared_error: 11.2986\n",
            "Epoch 5/40\n",
            "1/1 [==============================] - 0s 7ms/step - loss: 94.3033 - root_mean_squared_error: 9.7110\n",
            "Epoch 6/40\n",
            "1/1 [==============================] - 0s 5ms/step - loss: 69.9708 - root_mean_squared_error: 8.3649\n",
            "Epoch 7/40\n",
            "1/1 [==============================] - 0s 5ms/step - loss: 51.8781 - root_mean_squared_error: 7.2026\n",
            "Epoch 8/40\n",
            "1/1 [==============================] - 0s 5ms/step - loss: 38.3084 - root_mean_squared_error: 6.1894\n",
            "Epoch 9/40\n",
            "1/1 [==============================] - 0s 4ms/step - loss: 28.1120 - root_mean_squared_error: 5.3021\n",
            "Epoch 10/40\n",
            "1/1 [==============================] - 0s 8ms/step - loss: 20.4735 - root_mean_squared_error: 4.5248\n",
            "Epoch 11/40\n",
            "1/1 [==============================] - 0s 5ms/step - loss: 14.7905 - root_mean_squared_error: 3.8458\n",
            "Epoch 12/40\n",
            "1/1 [==============================] - 0s 6ms/step - loss: 10.6048 - root_mean_squared_error: 3.2565\n",
            "Epoch 13/40\n",
            "1/1 [==============================] - 0s 6ms/step - loss: 7.5614 - root_mean_squared_error: 2.7498\n",
            "Epoch 14/40\n",
            "1/1 [==============================] - 0s 6ms/step - loss: 5.3827 - root_mean_squared_error: 2.3201\n",
            "Epoch 15/40\n",
            "1/1 [==============================] - 0s 5ms/step - loss: 3.8508 - root_mean_squared_error: 1.9623\n",
            "Epoch 16/40\n",
            "1/1 [==============================] - 0s 6ms/step - loss: 2.7953 - root_mean_squared_error: 1.6719\n",
            "Epoch 17/40\n",
            "1/1 [==============================] - 0s 4ms/step - loss: 2.0844 - root_mean_squared_error: 1.4437\n",
            "Epoch 18/40\n",
            "1/1 [==============================] - 0s 4ms/step - loss: 1.6173 - root_mean_squared_error: 1.2717\n",
            "Epoch 19/40\n",
            "1/1 [==============================] - 0s 6ms/step - loss: 1.3186 - root_mean_squared_error: 1.1483\n",
            "Epoch 20/40\n",
            "1/1 [==============================] - 0s 5ms/step - loss: 1.1333 - root_mean_squared_error: 1.0645\n",
            "Epoch 21/40\n",
            "1/1 [==============================] - 0s 9ms/step - loss: 1.0218 - root_mean_squared_error: 1.0109\n",
            "Epoch 22/40\n",
            "1/1 [==============================] - 0s 9ms/step - loss: 0.9571 - root_mean_squared_error: 0.9783\n",
            "Epoch 23/40\n",
            "1/1 [==============================] - 0s 5ms/step - loss: 0.9209 - root_mean_squared_error: 0.9596\n",
            "Epoch 24/40\n",
            "1/1 [==============================] - 0s 5ms/step - loss: 0.9014 - root_mean_squared_error: 0.9494\n",
            "Epoch 25/40\n",
            "1/1 [==============================] - 0s 5ms/step - loss: 0.8913 - root_mean_squared_error: 0.9441\n",
            "Epoch 26/40\n",
            "1/1 [==============================] - 0s 5ms/step - loss: 0.8863 - root_mean_squared_error: 0.9414\n",
            "Epoch 27/40\n",
            "1/1 [==============================] - 0s 11ms/step - loss: 0.8839 - root_mean_squared_error: 0.9401\n",
            "Epoch 28/40\n",
            "1/1 [==============================] - 0s 6ms/step - loss: 0.8827 - root_mean_squared_error: 0.9395\n",
            "Epoch 29/40\n",
            "1/1 [==============================] - 0s 5ms/step - loss: 0.8822 - root_mean_squared_error: 0.9392\n",
            "Epoch 30/40\n",
            "1/1 [==============================] - 0s 5ms/step - loss: 0.8819 - root_mean_squared_error: 0.9391\n",
            "Epoch 31/40\n",
            "1/1 [==============================] - 0s 4ms/step - loss: 0.8816 - root_mean_squared_error: 0.9390\n",
            "Epoch 32/40\n",
            "1/1 [==============================] - 0s 4ms/step - loss: 0.8815 - root_mean_squared_error: 0.9389\n",
            "Epoch 33/40\n",
            "1/1 [==============================] - 0s 7ms/step - loss: 0.8813 - root_mean_squared_error: 0.9388\n",
            "Epoch 34/40\n",
            "1/1 [==============================] - 0s 6ms/step - loss: 0.8811 - root_mean_squared_error: 0.9387\n",
            "Epoch 35/40\n",
            "1/1 [==============================] - 0s 5ms/step - loss: 0.8810 - root_mean_squared_error: 0.9386\n",
            "Epoch 36/40\n",
            "1/1 [==============================] - 0s 5ms/step - loss: 0.8808 - root_mean_squared_error: 0.9385\n",
            "Epoch 37/40\n",
            "1/1 [==============================] - 0s 6ms/step - loss: 0.8806 - root_mean_squared_error: 0.9384\n",
            "Epoch 38/40\n",
            "1/1 [==============================] - 0s 19ms/step - loss: 0.8804 - root_mean_squared_error: 0.9383\n",
            "Epoch 39/40\n",
            "1/1 [==============================] - 0s 6ms/step - loss: 0.8803 - root_mean_squared_error: 0.9382\n",
            "Epoch 40/40\n",
            "1/1 [==============================] - 0s 6ms/step - loss: 0.8801 - root_mean_squared_error: 0.9381\n"
          ]
        }
      ]
    },
    {
      "cell_type": "code",
      "metadata": {
        "colab": {
          "base_uri": "https://localhost:8080/",
          "height": 279
        },
        "id": "x8bo1OrR6Kux",
        "outputId": "45a758d2-851d-4c5f-ee16-75d0d70d84f8"
      },
      "source": [
        "plot_the_loss_curve(epochs, rmse)"
      ],
      "execution_count": 60,
      "outputs": [
        {
          "output_type": "display_data",
          "data": {
            "image/png": "[encoded data removed]",
            "text/plain": [
              "<Figure size 432x288 with 1 Axes>"
            ]
          },
          "metadata": {
            "needs_background": "light"
          }
        }
      ]
    },
    {
      "cell_type": "markdown",
      "metadata": {
        "id": "dIZJHMiG-PUJ"
      },
      "source": [
        "# ***Решение задачи классификации***"
      ]
    },
    {
      "cell_type": "code",
      "metadata": {
        "colab": {
          "base_uri": "https://localhost:8080/"
        },
        "id": "NYZxAe3ZbY3_",
        "outputId": "b07ee979-54da-47d9-8d43-8c793b2bfc73"
      },
      "source": [
        "!ls"
      ],
      "execution_count": 61,
      "outputs": [
        {
          "output_type": "stream",
          "name": "stdout",
          "text": [
            "balance  balance.zip  dee  dee.zip  ecoli  ecoli.zip  sample_data\n"
          ]
        }
      ]
    },
    {
      "cell_type": "code",
      "metadata": {
        "colab": {
          "base_uri": "https://localhost:8080/"
        },
        "id": "RzMfrd1SbIz4",
        "outputId": "23fae7f1-aa9d-4620-85fd-daedd719d09c"
      },
      "source": [
        "!unzip \"balance.zip\" -d \"balance\""
      ],
      "execution_count": 62,
      "outputs": [
        {
          "output_type": "stream",
          "name": "stdout",
          "text": [
            "Archive:  balance.zip\n",
            "replace balance/balance.dat? [y]es, [n]o, [A]ll, [N]one, [r]ename: n\n"
          ]
        }
      ]
    },
    {
      "cell_type": "code",
      "metadata": {
        "id": "3Lqy5E69bnHx"
      },
      "source": [
        "FILE_PATH = '/content/balance'\n",
        "MAIN_FILE_NAME = 'balance.dat'\n",
        "\n",
        "data = load_keel('/content/balance/balance.dat')\n",
        "\n",
        "balance = data"
      ],
      "execution_count": 63,
      "outputs": []
    },
    {
      "cell_type": "code",
      "metadata": {
        "id": "OUKWa5sBICHh"
      },
      "source": [
        "# Генерация названий строк\n",
        "balance_names = np.array(['Balance{}'.format(i) for i in range(data.X.shape[0])])"
      ],
      "execution_count": 64,
      "outputs": []
    },
    {
      "cell_type": "code",
      "metadata": {
        "colab": {
          "base_uri": "https://localhost:8080/",
          "height": 419
        },
        "id": "Byb6qEABD3M1",
        "outputId": "da193672-ceed-4139-bee0-be83e97c0c13"
      },
      "source": [
        "data = pd.DataFrame(data.X, columns=data.inputs, index=balance_names)\n",
        "data"
      ],
      "execution_count": 65,
      "outputs": [
        {
          "output_type": "execute_result",
          "data": {
            "text/html": [
              "<div>\n",
              "<style scoped>\n",
              "    .dataframe tbody tr th:only-of-type {\n",
              "        vertical-align: middle;\n",
              "    }\n",
              "\n",
              "    .dataframe tbody tr th {\n",
              "        vertical-align: top;\n",
              "    }\n",
              "\n",
              "    .dataframe thead th {\n",
              "        text-align: right;\n",
              "    }\n",
              "</style>\n",
              "<table border=\"1\" class=\"dataframe\">\n",
              "  <thead>\n",
              "    <tr style=\"text-align: right;\">\n",
              "      <th></th>\n",
              "      <th>Left-weight</th>\n",
              "      <th>Left-distance</th>\n",
              "      <th>Right-weight</th>\n",
              "      <th>Right-distance</th>\n",
              "    </tr>\n",
              "  </thead>\n",
              "  <tbody>\n",
              "    <tr>\n",
              "      <th>Balance0</th>\n",
              "      <td>1.0</td>\n",
              "      <td>1.0</td>\n",
              "      <td>1.0</td>\n",
              "      <td>1.0</td>\n",
              "    </tr>\n",
              "    <tr>\n",
              "      <th>Balance1</th>\n",
              "      <td>1.0</td>\n",
              "      <td>1.0</td>\n",
              "      <td>1.0</td>\n",
              "      <td>2.0</td>\n",
              "    </tr>\n",
              "    <tr>\n",
              "      <th>Balance2</th>\n",
              "      <td>1.0</td>\n",
              "      <td>1.0</td>\n",
              "      <td>1.0</td>\n",
              "      <td>3.0</td>\n",
              "    </tr>\n",
              "    <tr>\n",
              "      <th>Balance3</th>\n",
              "      <td>1.0</td>\n",
              "      <td>1.0</td>\n",
              "      <td>1.0</td>\n",
              "      <td>4.0</td>\n",
              "    </tr>\n",
              "    <tr>\n",
              "      <th>Balance4</th>\n",
              "      <td>1.0</td>\n",
              "      <td>1.0</td>\n",
              "      <td>1.0</td>\n",
              "      <td>5.0</td>\n",
              "    </tr>\n",
              "    <tr>\n",
              "      <th>...</th>\n",
              "      <td>...</td>\n",
              "      <td>...</td>\n",
              "      <td>...</td>\n",
              "      <td>...</td>\n",
              "    </tr>\n",
              "    <tr>\n",
              "      <th>Balance620</th>\n",
              "      <td>5.0</td>\n",
              "      <td>4.0</td>\n",
              "      <td>2.0</td>\n",
              "      <td>4.0</td>\n",
              "    </tr>\n",
              "    <tr>\n",
              "      <th>Balance621</th>\n",
              "      <td>5.0</td>\n",
              "      <td>4.0</td>\n",
              "      <td>3.0</td>\n",
              "      <td>1.0</td>\n",
              "    </tr>\n",
              "    <tr>\n",
              "      <th>Balance622</th>\n",
              "      <td>5.0</td>\n",
              "      <td>4.0</td>\n",
              "      <td>3.0</td>\n",
              "      <td>4.0</td>\n",
              "    </tr>\n",
              "    <tr>\n",
              "      <th>Balance623</th>\n",
              "      <td>5.0</td>\n",
              "      <td>5.0</td>\n",
              "      <td>3.0</td>\n",
              "      <td>4.0</td>\n",
              "    </tr>\n",
              "    <tr>\n",
              "      <th>Balance624</th>\n",
              "      <td>5.0</td>\n",
              "      <td>5.0</td>\n",
              "      <td>5.0</td>\n",
              "      <td>3.0</td>\n",
              "    </tr>\n",
              "  </tbody>\n",
              "</table>\n",
              "<p>625 rows × 4 columns</p>\n",
              "</div>"
            ],
            "text/plain": [
              "            Left-weight  Left-distance  Right-weight  Right-distance\n",
              "Balance0            1.0            1.0           1.0             1.0\n",
              "Balance1            1.0            1.0           1.0             2.0\n",
              "Balance2            1.0            1.0           1.0             3.0\n",
              "Balance3            1.0            1.0           1.0             4.0\n",
              "Balance4            1.0            1.0           1.0             5.0\n",
              "...                 ...            ...           ...             ...\n",
              "Balance620          5.0            4.0           2.0             4.0\n",
              "Balance621          5.0            4.0           3.0             1.0\n",
              "Balance622          5.0            4.0           3.0             4.0\n",
              "Balance623          5.0            5.0           3.0             4.0\n",
              "Balance624          5.0            5.0           5.0             3.0\n",
              "\n",
              "[625 rows x 4 columns]"
            ]
          },
          "metadata": {},
          "execution_count": 65
        }
      ]
    },
    {
      "cell_type": "markdown",
      "metadata": {
        "id": "2XQoTJYfJUKn"
      },
      "source": [
        "*Теперь нормализуем данные*"
      ]
    },
    {
      "cell_type": "code",
      "metadata": {
        "id": "58KMp_ub_c7B"
      },
      "source": [
        "from sklearn.preprocessing import MinMaxScaler"
      ],
      "execution_count": 66,
      "outputs": []
    },
    {
      "cell_type": "code",
      "metadata": {
        "id": "6hJVDMYl_fSO"
      },
      "source": [
        "data_scaled = MinMaxScaler().fit_transform(data)"
      ],
      "execution_count": 67,
      "outputs": []
    },
    {
      "cell_type": "code",
      "metadata": {
        "id": "KuMmSD2EX2mQ",
        "colab": {
          "base_uri": "https://localhost:8080/",
          "height": 419
        },
        "outputId": "181ae034-855c-4eb5-80f0-ced49faa5c89"
      },
      "source": [
        "pd.DataFrame(data_scaled, columns=balance.inputs, index=balance_names)"
      ],
      "execution_count": 68,
      "outputs": [
        {
          "output_type": "execute_result",
          "data": {
            "text/html": [
              "<div>\n",
              "<style scoped>\n",
              "    .dataframe tbody tr th:only-of-type {\n",
              "        vertical-align: middle;\n",
              "    }\n",
              "\n",
              "    .dataframe tbody tr th {\n",
              "        vertical-align: top;\n",
              "    }\n",
              "\n",
              "    .dataframe thead th {\n",
              "        text-align: right;\n",
              "    }\n",
              "</style>\n",
              "<table border=\"1\" class=\"dataframe\">\n",
              "  <thead>\n",
              "    <tr style=\"text-align: right;\">\n",
              "      <th></th>\n",
              "      <th>Left-weight</th>\n",
              "      <th>Left-distance</th>\n",
              "      <th>Right-weight</th>\n",
              "      <th>Right-distance</th>\n",
              "    </tr>\n",
              "  </thead>\n",
              "  <tbody>\n",
              "    <tr>\n",
              "      <th>Balance0</th>\n",
              "      <td>0.0</td>\n",
              "      <td>0.00</td>\n",
              "      <td>0.00</td>\n",
              "      <td>0.00</td>\n",
              "    </tr>\n",
              "    <tr>\n",
              "      <th>Balance1</th>\n",
              "      <td>0.0</td>\n",
              "      <td>0.00</td>\n",
              "      <td>0.00</td>\n",
              "      <td>0.25</td>\n",
              "    </tr>\n",
              "    <tr>\n",
              "      <th>Balance2</th>\n",
              "      <td>0.0</td>\n",
              "      <td>0.00</td>\n",
              "      <td>0.00</td>\n",
              "      <td>0.50</td>\n",
              "    </tr>\n",
              "    <tr>\n",
              "      <th>Balance3</th>\n",
              "      <td>0.0</td>\n",
              "      <td>0.00</td>\n",
              "      <td>0.00</td>\n",
              "      <td>0.75</td>\n",
              "    </tr>\n",
              "    <tr>\n",
              "      <th>Balance4</th>\n",
              "      <td>0.0</td>\n",
              "      <td>0.00</td>\n",
              "      <td>0.00</td>\n",
              "      <td>1.00</td>\n",
              "    </tr>\n",
              "    <tr>\n",
              "      <th>...</th>\n",
              "      <td>...</td>\n",
              "      <td>...</td>\n",
              "      <td>...</td>\n",
              "      <td>...</td>\n",
              "    </tr>\n",
              "    <tr>\n",
              "      <th>Balance620</th>\n",
              "      <td>1.0</td>\n",
              "      <td>0.75</td>\n",
              "      <td>0.25</td>\n",
              "      <td>0.75</td>\n",
              "    </tr>\n",
              "    <tr>\n",
              "      <th>Balance621</th>\n",
              "      <td>1.0</td>\n",
              "      <td>0.75</td>\n",
              "      <td>0.50</td>\n",
              "      <td>0.00</td>\n",
              "    </tr>\n",
              "    <tr>\n",
              "      <th>Balance622</th>\n",
              "      <td>1.0</td>\n",
              "      <td>0.75</td>\n",
              "      <td>0.50</td>\n",
              "      <td>0.75</td>\n",
              "    </tr>\n",
              "    <tr>\n",
              "      <th>Balance623</th>\n",
              "      <td>1.0</td>\n",
              "      <td>1.00</td>\n",
              "      <td>0.50</td>\n",
              "      <td>0.75</td>\n",
              "    </tr>\n",
              "    <tr>\n",
              "      <th>Balance624</th>\n",
              "      <td>1.0</td>\n",
              "      <td>1.00</td>\n",
              "      <td>1.00</td>\n",
              "      <td>0.50</td>\n",
              "    </tr>\n",
              "  </tbody>\n",
              "</table>\n",
              "<p>625 rows × 4 columns</p>\n",
              "</div>"
            ],
            "text/plain": [
              "            Left-weight  Left-distance  Right-weight  Right-distance\n",
              "Balance0            0.0           0.00          0.00            0.00\n",
              "Balance1            0.0           0.00          0.00            0.25\n",
              "Balance2            0.0           0.00          0.00            0.50\n",
              "Balance3            0.0           0.00          0.00            0.75\n",
              "Balance4            0.0           0.00          0.00            1.00\n",
              "...                 ...            ...           ...             ...\n",
              "Balance620          1.0           0.75          0.25            0.75\n",
              "Balance621          1.0           0.75          0.50            0.00\n",
              "Balance622          1.0           0.75          0.50            0.75\n",
              "Balance623          1.0           1.00          0.50            0.75\n",
              "Balance624          1.0           1.00          1.00            0.50\n",
              "\n",
              "[625 rows x 4 columns]"
            ]
          },
          "metadata": {},
          "execution_count": 68
        }
      ]
    },
    {
      "cell_type": "code",
      "metadata": {
        "colab": {
          "base_uri": "https://localhost:8080/"
        },
        "id": "03WF3d1P0akQ",
        "outputId": "dcbf941c-b8bf-40a1-960e-b90edc03d615"
      },
      "source": [
        "def build_model(my_learning_rate):\n",
        "  \"\"\"Создание классификатора\"\"\"\n",
        "  model = tf.keras.models.Sequential()\n",
        "\n",
        "  model.add(tf.keras.layers.Dense(units=1, \n",
        "                                  input_shape=(4,)))\n",
        "  # Выходной слой с числом нейронов по числу классов\n",
        "  model.add(tf.keras.layers.Dense(10))\n",
        "  model.add(tf.keras.layers.Dense(4))\n",
        "\n",
        "  # Лосс-функция уже другая \n",
        "  model.compile(optimizer=tf.optimizers.Adam(lr=my_learning_rate),\n",
        "              loss=tf.keras.losses.SparseCategoricalCrossentropy(from_logits=True),\n",
        "              metrics=['accuracy'])\n",
        "\n",
        "  return model  \n",
        "\n",
        "print(\"Defined create_model\")"
      ],
      "execution_count": 69,
      "outputs": [
        {
          "output_type": "stream",
          "name": "stdout",
          "text": [
            "Defined create_model\n"
          ]
        }
      ]
    },
    {
      "cell_type": "code",
      "metadata": {
        "colab": {
          "base_uri": "https://localhost:8080/"
        },
        "id": "7jeKC9Fi-aW3",
        "outputId": "8a7078fb-3a92-41a7-836a-3105a8f66a90"
      },
      "source": [
        "def train_model(model, feature, label, epochs, batch_size):\n",
        "  \"\"\"Обучение модели\"\"\"\n",
        "\n",
        "  history = model.fit(x=feature,\n",
        "                      y=label,\n",
        "                      batch_size=batch_size,\n",
        "                      epochs=epochs)\n",
        "\n",
        "  trained_weight = model.get_weights()[0]\n",
        "  trained_bias = model.get_weights()[1]\n",
        "\n",
        "  epochs = history.epoch\n",
        "\n",
        "  hist = pd.DataFrame(history.history)\n",
        "\n",
        "  acc = hist[\"accuracy\"]\n",
        "\n",
        "  return trained_weight, trained_bias, epochs, acc\n",
        "\n",
        "print(\"Defined train_model\")"
      ],
      "execution_count": 70,
      "outputs": [
        {
          "output_type": "stream",
          "name": "stdout",
          "text": [
            "Defined train_model\n"
          ]
        }
      ]
    },
    {
      "cell_type": "code",
      "metadata": {
        "colab": {
          "base_uri": "https://localhost:8080/"
        },
        "id": "iijN_vf1SQUL",
        "outputId": "ac6701ed-b432-4797-c08a-77c8b696a2a9"
      },
      "source": [
        "def plot_the_loss_curve(epochs, acc):\n",
        "  \"\"\"График лосс-значений/эпохи\"\"\"\n",
        "\n",
        "  plt.figure()\n",
        "  plt.xlabel(\"Epoch\")\n",
        "  plt.ylabel(\"Sparse Categorical Crossentropy \")\n",
        "\n",
        "  plt.plot(epochs, acc, label=\"Accuracy\")\n",
        "  plt.legend()\n",
        "  plt.ylim([acc.min()*0.97, acc.max()])\n",
        "  plt.show()\n",
        "\n",
        "print(\"Defined the plot_the_model and plot_the_loss_curve functions.\")"
      ],
      "execution_count": 71,
      "outputs": [
        {
          "output_type": "stream",
          "name": "stdout",
          "text": [
            "Defined the plot_the_model and plot_the_loss_curve functions.\n"
          ]
        }
      ]
    },
    {
      "cell_type": "code",
      "metadata": {
        "id": "1dl12vkJ8dBR"
      },
      "source": [
        "x = data_scaled\n",
        "y = balance.y"
      ],
      "execution_count": 72,
      "outputs": []
    },
    {
      "cell_type": "code",
      "metadata": {
        "colab": {
          "base_uri": "https://localhost:8080/"
        },
        "id": "JjKJf-cDza8O",
        "outputId": "f1b6e32b-2bfa-4515-a6e6-ca18bbb4f5db"
      },
      "source": [
        "learning_rate=0.001\n",
        "epochs=100\n",
        "my_batch_size= 15\n",
        "\n",
        "my_model = build_model(learning_rate)\n",
        "trained_weight, trained_bias, epochs, acc = train_model(my_model, x, \n",
        "                                                        y, epochs,\n",
        "                                                        my_batch_size)"
      ],
      "execution_count": 73,
      "outputs": [
        {
          "output_type": "stream",
          "name": "stdout",
          "text": [
            "Epoch 1/100\n"
          ]
        },
        {
          "output_type": "stream",
          "name": "stderr",
          "text": [
            "/usr/local/lib/python3.7/dist-packages/keras/optimizer_v2/optimizer_v2.py:356: UserWarning: The `lr` argument is deprecated, use `learning_rate` instead.\n",
            "  \"The `lr` argument is deprecated, use `learning_rate` instead.\")\n"
          ]
        },
        {
          "output_type": "stream",
          "name": "stdout",
          "text": [
            "42/42 [==============================] - 0s 1ms/step - loss: 1.4393 - accuracy: 0.2848\n",
            "Epoch 2/100\n",
            "42/42 [==============================] - 0s 1ms/step - loss: 1.2945 - accuracy: 0.2128\n",
            "Epoch 3/100\n",
            "42/42 [==============================] - 0s 2ms/step - loss: 1.1689 - accuracy: 0.4016\n",
            "Epoch 4/100\n",
            "42/42 [==============================] - 0s 1ms/step - loss: 1.0630 - accuracy: 0.4608\n",
            "Epoch 5/100\n",
            "42/42 [==============================] - 0s 2ms/step - loss: 0.9918 - accuracy: 0.4752\n",
            "Epoch 6/100\n",
            "42/42 [==============================] - 0s 1ms/step - loss: 0.9487 - accuracy: 0.5248\n",
            "Epoch 7/100\n",
            "42/42 [==============================] - 0s 1ms/step - loss: 0.9214 - accuracy: 0.5616\n",
            "Epoch 8/100\n",
            "42/42 [==============================] - 0s 1ms/step - loss: 0.8994 - accuracy: 0.6144\n",
            "Epoch 9/100\n",
            "42/42 [==============================] - 0s 1ms/step - loss: 0.8793 - accuracy: 0.6160\n",
            "Epoch 10/100\n",
            "42/42 [==============================] - 0s 1ms/step - loss: 0.8571 - accuracy: 0.6656\n",
            "Epoch 11/100\n",
            "42/42 [==============================] - 0s 2ms/step - loss: 0.8351 - accuracy: 0.7008\n",
            "Epoch 12/100\n",
            "42/42 [==============================] - 0s 2ms/step - loss: 0.8088 - accuracy: 0.7024\n",
            "Epoch 13/100\n",
            "42/42 [==============================] - 0s 2ms/step - loss: 0.7789 - accuracy: 0.7392\n",
            "Epoch 14/100\n",
            "42/42 [==============================] - 0s 1ms/step - loss: 0.7460 - accuracy: 0.7600\n",
            "Epoch 15/100\n",
            "42/42 [==============================] - 0s 1ms/step - loss: 0.7108 - accuracy: 0.7744\n",
            "Epoch 16/100\n",
            "42/42 [==============================] - 0s 2ms/step - loss: 0.6748 - accuracy: 0.7904\n",
            "Epoch 17/100\n",
            "42/42 [==============================] - 0s 2ms/step - loss: 0.6364 - accuracy: 0.8048\n",
            "Epoch 18/100\n",
            "42/42 [==============================] - 0s 2ms/step - loss: 0.6003 - accuracy: 0.8128\n",
            "Epoch 19/100\n",
            "42/42 [==============================] - 0s 2ms/step - loss: 0.5661 - accuracy: 0.8224\n",
            "Epoch 20/100\n",
            "42/42 [==============================] - 0s 2ms/step - loss: 0.5331 - accuracy: 0.8352\n",
            "Epoch 21/100\n",
            "42/42 [==============================] - 0s 1ms/step - loss: 0.5039 - accuracy: 0.8480\n",
            "Epoch 22/100\n",
            "42/42 [==============================] - 0s 1ms/step - loss: 0.4781 - accuracy: 0.8528\n",
            "Epoch 23/100\n",
            "42/42 [==============================] - 0s 1ms/step - loss: 0.4544 - accuracy: 0.8608\n",
            "Epoch 24/100\n",
            "42/42 [==============================] - 0s 1ms/step - loss: 0.4343 - accuracy: 0.8672\n",
            "Epoch 25/100\n",
            "42/42 [==============================] - 0s 1ms/step - loss: 0.4157 - accuracy: 0.8736\n",
            "Epoch 26/100\n",
            "42/42 [==============================] - 0s 1ms/step - loss: 0.3993 - accuracy: 0.8768\n",
            "Epoch 27/100\n",
            "42/42 [==============================] - 0s 2ms/step - loss: 0.3851 - accuracy: 0.8720\n",
            "Epoch 28/100\n",
            "42/42 [==============================] - 0s 1ms/step - loss: 0.3715 - accuracy: 0.8768\n",
            "Epoch 29/100\n",
            "42/42 [==============================] - 0s 2ms/step - loss: 0.3601 - accuracy: 0.8800\n",
            "Epoch 30/100\n",
            "42/42 [==============================] - 0s 1ms/step - loss: 0.3505 - accuracy: 0.8720\n",
            "Epoch 31/100\n",
            "42/42 [==============================] - 0s 1ms/step - loss: 0.3409 - accuracy: 0.8784\n",
            "Epoch 32/100\n",
            "42/42 [==============================] - 0s 1ms/step - loss: 0.3323 - accuracy: 0.8768\n",
            "Epoch 33/100\n",
            "42/42 [==============================] - 0s 2ms/step - loss: 0.3251 - accuracy: 0.8768\n",
            "Epoch 34/100\n",
            "42/42 [==============================] - 0s 2ms/step - loss: 0.3184 - accuracy: 0.8816\n",
            "Epoch 35/100\n",
            "42/42 [==============================] - 0s 1ms/step - loss: 0.3129 - accuracy: 0.8784\n",
            "Epoch 36/100\n",
            "42/42 [==============================] - 0s 2ms/step - loss: 0.3080 - accuracy: 0.8736\n",
            "Epoch 37/100\n",
            "42/42 [==============================] - 0s 1ms/step - loss: 0.3024 - accuracy: 0.8736\n",
            "Epoch 38/100\n",
            "42/42 [==============================] - 0s 1ms/step - loss: 0.2984 - accuracy: 0.8768\n",
            "Epoch 39/100\n",
            "42/42 [==============================] - 0s 2ms/step - loss: 0.2943 - accuracy: 0.8784\n",
            "Epoch 40/100\n",
            "42/42 [==============================] - 0s 1ms/step - loss: 0.2915 - accuracy: 0.8704\n",
            "Epoch 41/100\n",
            "42/42 [==============================] - 0s 1ms/step - loss: 0.2880 - accuracy: 0.8768\n",
            "Epoch 42/100\n",
            "42/42 [==============================] - 0s 2ms/step - loss: 0.2844 - accuracy: 0.8784\n",
            "Epoch 43/100\n",
            "42/42 [==============================] - 0s 2ms/step - loss: 0.2823 - accuracy: 0.8768\n",
            "Epoch 44/100\n",
            "42/42 [==============================] - 0s 1ms/step - loss: 0.2798 - accuracy: 0.8768\n",
            "Epoch 45/100\n",
            "42/42 [==============================] - 0s 1ms/step - loss: 0.2779 - accuracy: 0.8736\n",
            "Epoch 46/100\n",
            "42/42 [==============================] - 0s 2ms/step - loss: 0.2762 - accuracy: 0.8736\n",
            "Epoch 47/100\n",
            "42/42 [==============================] - 0s 2ms/step - loss: 0.2741 - accuracy: 0.8784\n",
            "Epoch 48/100\n",
            "42/42 [==============================] - 0s 2ms/step - loss: 0.2723 - accuracy: 0.8720\n",
            "Epoch 49/100\n",
            "42/42 [==============================] - 0s 1ms/step - loss: 0.2710 - accuracy: 0.8752\n",
            "Epoch 50/100\n",
            "42/42 [==============================] - 0s 2ms/step - loss: 0.2702 - accuracy: 0.8720\n",
            "Epoch 51/100\n",
            "42/42 [==============================] - 0s 2ms/step - loss: 0.2684 - accuracy: 0.8768\n",
            "Epoch 52/100\n",
            "42/42 [==============================] - 0s 2ms/step - loss: 0.2683 - accuracy: 0.8720\n",
            "Epoch 53/100\n",
            "42/42 [==============================] - 0s 1ms/step - loss: 0.2662 - accuracy: 0.8784\n",
            "Epoch 54/100\n",
            "42/42 [==============================] - 0s 1ms/step - loss: 0.2649 - accuracy: 0.8768\n",
            "Epoch 55/100\n",
            "42/42 [==============================] - 0s 1ms/step - loss: 0.2645 - accuracy: 0.8688\n",
            "Epoch 56/100\n",
            "42/42 [==============================] - 0s 2ms/step - loss: 0.2634 - accuracy: 0.8688\n",
            "Epoch 57/100\n",
            "42/42 [==============================] - 0s 2ms/step - loss: 0.2630 - accuracy: 0.8720\n",
            "Epoch 58/100\n",
            "42/42 [==============================] - 0s 1ms/step - loss: 0.2620 - accuracy: 0.8752\n",
            "Epoch 59/100\n",
            "42/42 [==============================] - 0s 2ms/step - loss: 0.2616 - accuracy: 0.8720\n",
            "Epoch 60/100\n",
            "42/42 [==============================] - 0s 1ms/step - loss: 0.2607 - accuracy: 0.8704\n",
            "Epoch 61/100\n",
            "42/42 [==============================] - 0s 2ms/step - loss: 0.2600 - accuracy: 0.8752\n",
            "Epoch 62/100\n",
            "42/42 [==============================] - 0s 1ms/step - loss: 0.2601 - accuracy: 0.8736\n",
            "Epoch 63/100\n",
            "42/42 [==============================] - 0s 2ms/step - loss: 0.2590 - accuracy: 0.8672\n",
            "Epoch 64/100\n",
            "42/42 [==============================] - 0s 1ms/step - loss: 0.2591 - accuracy: 0.8672\n",
            "Epoch 65/100\n",
            "42/42 [==============================] - 0s 1ms/step - loss: 0.2585 - accuracy: 0.8768\n",
            "Epoch 66/100\n",
            "42/42 [==============================] - 0s 2ms/step - loss: 0.2573 - accuracy: 0.8800\n",
            "Epoch 67/100\n",
            "42/42 [==============================] - 0s 2ms/step - loss: 0.2589 - accuracy: 0.8768\n",
            "Epoch 68/100\n",
            "42/42 [==============================] - 0s 1ms/step - loss: 0.2570 - accuracy: 0.8752\n",
            "Epoch 69/100\n",
            "42/42 [==============================] - 0s 1ms/step - loss: 0.2563 - accuracy: 0.8768\n",
            "Epoch 70/100\n",
            "42/42 [==============================] - 0s 2ms/step - loss: 0.2562 - accuracy: 0.8720\n",
            "Epoch 71/100\n",
            "42/42 [==============================] - 0s 2ms/step - loss: 0.2570 - accuracy: 0.8752\n",
            "Epoch 72/100\n",
            "42/42 [==============================] - 0s 1ms/step - loss: 0.2565 - accuracy: 0.8784\n",
            "Epoch 73/100\n",
            "42/42 [==============================] - 0s 1ms/step - loss: 0.2572 - accuracy: 0.8704\n",
            "Epoch 74/100\n",
            "42/42 [==============================] - 0s 1ms/step - loss: 0.2569 - accuracy: 0.8752\n",
            "Epoch 75/100\n",
            "42/42 [==============================] - 0s 1ms/step - loss: 0.2556 - accuracy: 0.8768\n",
            "Epoch 76/100\n",
            "42/42 [==============================] - 0s 2ms/step - loss: 0.2565 - accuracy: 0.8688\n",
            "Epoch 77/100\n",
            "42/42 [==============================] - 0s 1ms/step - loss: 0.2557 - accuracy: 0.8784\n",
            "Epoch 78/100\n",
            "42/42 [==============================] - 0s 1ms/step - loss: 0.2562 - accuracy: 0.8800\n",
            "Epoch 79/100\n",
            "42/42 [==============================] - 0s 1ms/step - loss: 0.2560 - accuracy: 0.8784\n",
            "Epoch 80/100\n",
            "42/42 [==============================] - 0s 1ms/step - loss: 0.2552 - accuracy: 0.8832\n",
            "Epoch 81/100\n",
            "42/42 [==============================] - 0s 2ms/step - loss: 0.2548 - accuracy: 0.8912\n",
            "Epoch 82/100\n",
            "42/42 [==============================] - 0s 1ms/step - loss: 0.2544 - accuracy: 0.9152\n",
            "Epoch 83/100\n",
            "42/42 [==============================] - 0s 2ms/step - loss: 0.2540 - accuracy: 0.9008\n",
            "Epoch 84/100\n",
            "42/42 [==============================] - 0s 2ms/step - loss: 0.2552 - accuracy: 0.8800\n",
            "Epoch 85/100\n",
            "42/42 [==============================] - 0s 2ms/step - loss: 0.2546 - accuracy: 0.8896\n",
            "Epoch 86/100\n",
            "42/42 [==============================] - 0s 1ms/step - loss: 0.2538 - accuracy: 0.9152\n",
            "Epoch 87/100\n",
            "42/42 [==============================] - 0s 1ms/step - loss: 0.2534 - accuracy: 0.9168\n",
            "Epoch 88/100\n",
            "42/42 [==============================] - 0s 1ms/step - loss: 0.2543 - accuracy: 0.9008\n",
            "Epoch 89/100\n",
            "42/42 [==============================] - 0s 1ms/step - loss: 0.2541 - accuracy: 0.9168\n",
            "Epoch 90/100\n",
            "42/42 [==============================] - 0s 2ms/step - loss: 0.2535 - accuracy: 0.9168\n",
            "Epoch 91/100\n",
            "42/42 [==============================] - 0s 2ms/step - loss: 0.2537 - accuracy: 0.9152\n",
            "Epoch 92/100\n",
            "42/42 [==============================] - 0s 1ms/step - loss: 0.2532 - accuracy: 0.9168\n",
            "Epoch 93/100\n",
            "42/42 [==============================] - 0s 2ms/step - loss: 0.2531 - accuracy: 0.9168\n",
            "Epoch 94/100\n",
            "42/42 [==============================] - 0s 2ms/step - loss: 0.2535 - accuracy: 0.9168\n",
            "Epoch 95/100\n",
            "42/42 [==============================] - 0s 1ms/step - loss: 0.2538 - accuracy: 0.9168\n",
            "Epoch 96/100\n",
            "42/42 [==============================] - 0s 1ms/step - loss: 0.2535 - accuracy: 0.9168\n",
            "Epoch 97/100\n",
            "42/42 [==============================] - 0s 2ms/step - loss: 0.2532 - accuracy: 0.9168\n",
            "Epoch 98/100\n",
            "42/42 [==============================] - 0s 1ms/step - loss: 0.2544 - accuracy: 0.9104\n",
            "Epoch 99/100\n",
            "42/42 [==============================] - 0s 1ms/step - loss: 0.2537 - accuracy: 0.9136\n",
            "Epoch 100/100\n",
            "42/42 [==============================] - 0s 1ms/step - loss: 0.2531 - accuracy: 0.9152\n"
          ]
        }
      ]
    },
    {
      "cell_type": "code",
      "metadata": {
        "colab": {
          "base_uri": "https://localhost:8080/",
          "height": 279
        },
        "id": "bkfjTJhqSqPx",
        "outputId": "65495674-555e-4a28-8737-3ae43c35c855"
      },
      "source": [
        "plot_the_loss_curve(epochs, acc)"
      ],
      "execution_count": 74,
      "outputs": [
        {
          "output_type": "display_data",
          "data": {
            "image/png": "[encoded data removed]",
            "text/plain": [
              "<Figure size 432x288 with 1 Axes>"
            ]
          },
          "metadata": {
            "needs_background": "light"
          }
        }
      ]
    },
    {
      "cell_type": "code",
      "metadata": {
        "id": "EOu6-STG2pB6"
      },
      "source": [
        "from sklearn.datasets import fetch_openml\n",
        "from sklearn.preprocessing import StandardScaler\n",
        "dataset = fetch_openml('har')\n",
        "X = StandardScaler().fit_transform(dataset.data)\n",
        "Y = dataset.target\n",
        "Y_new = []\n",
        "for i in range(len(Y)):\n",
        "  Y_new.append(int(Y[i]))"
      ],
      "execution_count": 75,
      "outputs": []
    },
    {
      "cell_type": "code",
      "metadata": {
        "id": "2iBESH4h32pK"
      },
      "source": [
        "from sklearn.svm import LinearSVC\n",
        "from sklearn.metrics import accuracy_score\n",
        "from sklearn.ensemble import RandomForestClassifier\n",
        "from sklearn.neighbors import KNeighborsClassifier\n",
        "from sklearn.model_selection import KFold"
      ],
      "execution_count": 76,
      "outputs": []
    },
    {
      "cell_type": "code",
      "metadata": {
        "id": "Gh7-R48Y34M0"
      },
      "source": [
        "from sklearn.model_selection import train_test_split\n",
        "features = X.shape[1]\n",
        "\n",
        "X_train, X_test, y_train, y_test = train_test_split(\n",
        "    X[:, :features], \n",
        "    Y, \n",
        "    test_size=0.3, \n",
        "    shuffle=True)"
      ],
      "execution_count": 77,
      "outputs": []
    },
    {
      "cell_type": "code",
      "metadata": {
        "colab": {
          "base_uri": "https://localhost:8080/"
        },
        "id": "NsmkW_0q4QUG",
        "outputId": "52ff9f4a-194c-45d4-e147-ce85b03e7347"
      },
      "source": [
        "kf = KFold(n_splits=5)\n",
        "accs = []\n",
        "for train_index, test_index in kf.split(X):\n",
        "  for i in range(0, 5):\n",
        "    X_train, X_test = X[train_index], X[test_index]\n",
        "    y_train, y_test = Y[train_index], Y[test_index]\n",
        "    model = LinearSVC(tol=1e1)\n",
        "    model.fit(X_train, y_train)\n",
        "    predicted = model.predict(X_test)\n",
        "    acc = accuracy_score(predicted, y_test)\n",
        "    accs.append(acc)\n",
        "print(np.mean(accs))"
      ],
      "execution_count": 78,
      "outputs": [
        {
          "output_type": "stream",
          "name": "stdout",
          "text": [
            "0.9394516519943227\n"
          ]
        }
      ]
    }
  ]
}