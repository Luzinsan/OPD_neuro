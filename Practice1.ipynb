{
  "nbformat": 4,
  "nbformat_minor": 0,
  "metadata": {
    "colab": {
      "name": "Copy of Practice1.ipynb",
      "provenance": [],
      "collapsed_sections": [
        "8SRweZEd4UIj"
      ],
      "include_colab_link": true
    },
    "kernelspec": {
      "name": "python3",
      "display_name": "Python 3"
    },
    "language_info": {
      "name": "python"
    },
    "accelerator": "GPU"
  },
  "cells": [
    {
      "cell_type": "markdown",
      "metadata": {
        "id": "view-in-github",
        "colab_type": "text"
      },
      "source": [
        "<a href=\"https://colab.research.google.com/github/Luzinsan/OPD_neuro/blob/main/Practice1.ipynb\" target=\"_parent\"><img src=\"https://colab.research.google.com/assets/colab-badge.svg\" alt=\"Open In Colab\"/></a>"
      ]
    },
    {
      "cell_type": "markdown",
      "metadata": {
        "id": "8SRweZEd4UIj"
      },
      "source": [
        "# ***Подготовка входных данных***"
      ]
    },
    {
      "cell_type": "code",
      "metadata": {
        "colab": {
          "base_uri": "https://localhost:8080/"
        },
        "id": "CzGhMysYMNCi",
        "outputId": "cb37d63e-664c-4ad7-e304-1a5d730c6665"
      },
      "source": [
        "!ls"
      ],
      "execution_count": 327,
      "outputs": [
        {
          "output_type": "stream",
          "name": "stdout",
          "text": [
            "ecoli  ecoli.zip  sample_data\n"
          ]
        }
      ]
    },
    {
      "cell_type": "code",
      "metadata": {
        "colab": {
          "base_uri": "https://localhost:8080/"
        },
        "id": "3B1iSeloMa8R",
        "outputId": "13981f4e-8204-4d03-832f-67964960677d"
      },
      "source": [
        "!unzip \"ecoli.zip\" -d \"ecoli\""
      ],
      "execution_count": 328,
      "outputs": [
        {
          "output_type": "stream",
          "name": "stdout",
          "text": [
            "Archive:  ecoli.zip\n",
            "replace ecoli/ecoli.dat? [y]es, [n]o, [A]ll, [N]one, [r]ename: "
          ]
        }
      ]
    },
    {
      "cell_type": "code",
      "metadata": {
        "id": "vmT3BOuw3PWy"
      },
      "source": [
        "def load_keel(file_path):\n",
        "    file_path = Path(file_path)\n",
        "    return KeelParser()(file_path.read_text())"
      ],
      "execution_count": 329,
      "outputs": []
    },
    {
      "cell_type": "code",
      "metadata": {
        "id": "T_Z07uQe3uYz"
      },
      "source": [
        "import re\n",
        "from pathlib import Path\n",
        "from pandas import DataFrame, Categorical, to_numeric\n",
        "import numpy as np\n",
        "from functools import partial\n",
        "from sklearn.preprocessing import LabelEncoder\n",
        "\n",
        "class DataScheme:\n",
        "    def __init__(self, data_name, attributes, inputs, outputs, X, y):\n",
        "        self.data_name = data_name\n",
        "        self.inputs = inputs\n",
        "        self.outputs = outputs\n",
        "        self.attributes = attributes\n",
        "        self.X = X\n",
        "        self.y = y\n",
        "\n",
        "\n",
        "\n",
        "class KeelParser:\n",
        "    def __call__(self, data):\n",
        "        self.data = data\n",
        "\n",
        "        data_name = self.get_data_name()\n",
        "        attributes = self.get_attributes()\n",
        "        inputs = self.get_inputs()\n",
        "        outputs = self.get_outputs()\n",
        "        data_frame = self.get_data()\n",
        "        data_frame.columns = [*inputs, *outputs]\n",
        "        X = np.array(data_frame[inputs])\n",
        "        y = np.array(data_frame[outputs]).ravel()\n",
        "\n",
        "        if len(outputs) > 1:\n",
        "            raise Exception('Multiple outputs in dataset not yet supported')\n",
        "        if attributes[outputs[0]][0] == 'nominal':\n",
        "            y = Categorical(\n",
        "                y,\n",
        "                ordered=False,\n",
        "                categories=attributes[outputs[0]][1]\n",
        "            ).codes\n",
        "        elif attributes[outputs[0]][0] == 'real':\n",
        "            y = np.array(y, dtype=float)\n",
        "        return DataScheme(data_name, attributes, inputs, outputs, X, y)\n",
        "\n",
        "    def get_data_name(self):\n",
        "        \"\"\"\n",
        "        Функция для получения названия набора данных\n",
        "        :return:\n",
        "        \"\"\"\n",
        "        parsed = re.search(r'^@relation\\s+(\\S+)$', self.data, re.MULTILINE)\n",
        "        return parsed.group(1)\n",
        "\n",
        "    def get_attributes(self):\n",
        "        \"\"\"\n",
        "        Функция для получения описаний входных и выходных параметров\n",
        "        набора данных\n",
        "        :return:\n",
        "        \"\"\"\n",
        "        attributes = dict()\n",
        "        if \"Attribute\" in self.data:\n",
        "            parsed = re.findall(r'^@Attribute\\s+(.+)$', self.data,\n",
        "                                re.MULTILINE)\n",
        "        else:\n",
        "            parsed = re.findall(r'^@attribute\\s+(.+)$', self.data,\n",
        "                                re.MULTILINE)\n",
        "\n",
        "        for att in parsed:\n",
        "            if '{' in att:\n",
        "                name = att[:att.index('{')].strip()\n",
        "                att = att[att.index('{'):]\n",
        "                for char in '{}':\n",
        "                    att = att.replace(char, '')\n",
        "                att = att.replace(\" \", \"\")\n",
        "                att = att.split(',')\n",
        "                attributes[name] = ['nominal', att]\n",
        "            else:\n",
        "                if 'real' in att or 'integer' in att:\n",
        "                    name = att[:att.index(' ')]\n",
        "                    att = att[att.index(' ') + 1:]\n",
        "                    att_type = att[:att.index('[')].strip()\n",
        "                    att = att[att.index('['):]\n",
        "                    for char in '[]':\n",
        "                        att = att.replace(char, '')\n",
        "                    attributes[name] = [\n",
        "                        att_type, att.replace(' ', '').split(',')]\n",
        "                else:\n",
        "                    if 'numeric' in att:\n",
        "                        att = att.split(' ')\n",
        "                        attributes[att[0].strip()] = ['numeric']\n",
        "                    else:\n",
        "                        raise Exception(\n",
        "                            f'Error during @attribute line parse: {att}')\n",
        "\n",
        "        return attributes\n",
        "\n",
        "    def get_inputs(self):\n",
        "        \"\"\"\n",
        "        Функция для получения списка входных параметров набора данных\n",
        "        :return:\n",
        "        \"\"\"\n",
        "        parsed = re.search(r'^@inputs\\s+(.+)$', self.data, re.MULTILINE)\n",
        "        return [j.strip() for j in parsed.group(1).split(',')]\n",
        "\n",
        "    def get_outputs(self):\n",
        "        \"\"\"\n",
        "        Функция для получения списка выходных меток набора данных\n",
        "        :return:\n",
        "        \"\"\"\n",
        "        if \"outputs\" in self.data:\n",
        "            parsed = re.search(r'^@outputs\\s+(.+)$', self.data, re.MULTILINE)\n",
        "        else:\n",
        "            parsed = re.search(r'^@output\\s+(.+)$', self.data, re.MULTILINE)\n",
        "\n",
        "        return [x.strip() for x in parsed.group(1).split(',')]\n",
        "\n",
        "    def get_data(self):\n",
        "        \"\"\"\n",
        "        Функция для получения данных из выбранного набора\n",
        "        :return:\n",
        "        \"\"\"\n",
        "        parsed = re.search(\n",
        "            r'^@data\\n(.+)', self.data, flags=re.MULTILINE | re.DOTALL)\n",
        "        data = np.array([\n",
        "            re.split(r', ?', item) for item in parsed.group(1).splitlines()])\n",
        "        dim = len(data[0])\n",
        "        ys = np.copy(data[:, dim - 1])\n",
        "        data[:, dim - 1] = 0\n",
        "        df = DataFrame(data=data)\n",
        "        df = df.apply(partial(to_numeric, errors='ignore'))\n",
        "        if not (df.select_dtypes(['object']).empty):\n",
        "            df.loc[:, df.dtypes == 'object'] = df.select_dtypes([\n",
        "                'object'\n",
        "            ]).apply(lambda x:\n",
        "                     (LabelEncoder().fit_transform(x)).astype('float'))\n",
        "        df[dim - 1] = df[dim - 1].astype(str)\n",
        "        df[dim - 1] = ys\n",
        "\n",
        "        return df"
      ],
      "execution_count": 330,
      "outputs": []
    },
    {
      "cell_type": "code",
      "metadata": {
        "id": "rlsPg89WMnIx"
      },
      "source": [
        "import os\n",
        "\n",
        "FILE_PATH = '/content/ecoli'\n",
        "MAIN_FILE_NAME = 'ecoli.dat'\n",
        "\n",
        "data = load_keel('/content/ecoli/ecoli.dat')\n",
        "\n",
        "ecoli = data"
      ],
      "execution_count": 331,
      "outputs": []
    },
    {
      "cell_type": "code",
      "metadata": {
        "id": "uSiDz5fOplbm"
      },
      "source": [
        "import numpy as np\n",
        "import pandas as pd\n",
        "import matplotlib.pyplot as plt\n",
        "from sklearn import datasets"
      ],
      "execution_count": 332,
      "outputs": []
    },
    {
      "cell_type": "code",
      "metadata": {
        "id": "GI0vLMf89k8b"
      },
      "source": [
        "import tensorflow as tf"
      ],
      "execution_count": 333,
      "outputs": []
    },
    {
      "cell_type": "markdown",
      "metadata": {
        "id": "Bp3iHLMD9dub"
      },
      "source": [
        "# ***Решение задачи регрессии***"
      ]
    },
    {
      "cell_type": "code",
      "metadata": {
        "colab": {
          "base_uri": "https://localhost:8080/"
        },
        "id": "BpWTkopXwy7m",
        "outputId": "1ff26144-9bba-4d32-d029-ba1b1609128f"
      },
      "source": [
        "#Определение функции, создающей модель-регрессор\n",
        "def build_model(my_learning_rate):\n",
        "  \"\"\"Create and compile a simple linear regression model.\"\"\"\n",
        "  # Большинство tf.keras моделей представляют собой простую последовательность слоев -\n",
        "  # sequential.\n",
        "  model = tf.keras.models.Sequential()\n",
        "\n",
        "  # Описание архитектуры модели\n",
        "  model.add(tf.keras.layers.Dense(units=1, \n",
        "                                  input_shape=(1,)))\n",
        "\n",
        "  # Компиляция модели\n",
        "  model.compile(optimizer=tf.keras.optimizers.RMSprop(lr=my_learning_rate),\n",
        "                loss=\"mean_squared_error\",\n",
        "                metrics=[tf.keras.metrics.RootMeanSquaredError()])\n",
        "\n",
        "  return model           \n",
        "\n",
        "print(\"Defined create_model\")\n"
      ],
      "execution_count": 298,
      "outputs": [
        {
          "output_type": "stream",
          "name": "stdout",
          "text": [
            "Defined create_model\n"
          ]
        }
      ]
    },
    {
      "cell_type": "code",
      "metadata": {
        "colab": {
          "base_uri": "https://localhost:8080/"
        },
        "id": "ChIm2Jta93Aw",
        "outputId": "910a2ccd-115b-4d80-a44a-7078e3722e87"
      },
      "source": [
        "def train_model(model, feature, label, epochs, batch_size):\n",
        "  \"\"\"Train the model by feeding it data.\"\"\"\n",
        "\n",
        "  # Задание параметров обучения и запуск обучения\n",
        "  history = model.fit(x=feature,\n",
        "                      y=label,\n",
        "                      batch_size=batch_size,\n",
        "                      epochs=epochs)\n",
        "\n",
        "  # Получения параметров модели - линейного слоя\n",
        "  trained_weight = model.get_weights()[0]\n",
        "  trained_bias = model.get_weights()[1]\n",
        "\n",
        "  epochs = history.epoch\n",
        "  \n",
        "  hist = pd.DataFrame(history.history)\n",
        "\n",
        "  rmse = hist[\"root_mean_squared_error\"]\n",
        "\n",
        "  return trained_weight, trained_bias, epochs, rmse\n",
        "\n",
        "print(\"Defined ctrain_model\")"
      ],
      "execution_count": 299,
      "outputs": [
        {
          "output_type": "stream",
          "name": "stdout",
          "text": [
            "Defined ctrain_model\n"
          ]
        }
      ]
    },
    {
      "cell_type": "code",
      "metadata": {
        "colab": {
          "base_uri": "https://localhost:8080/"
        },
        "id": "ftTjMlGex_VT",
        "outputId": "bc7070b4-9b47-4d8e-d78a-c14824f3659c"
      },
      "source": [
        "def plot_the_loss_curve(epochs, rmse):\n",
        "  \"\"\"График лосс-значений/эпохи\"\"\"\n",
        "\n",
        "  plt.figure()\n",
        "  plt.xlabel(\"Epoch\")\n",
        "  plt.ylabel(\"Root Mean Squared Error\")\n",
        "\n",
        "  plt.plot(epochs, rmse, label=\"Loss\")\n",
        "  plt.legend()\n",
        "  plt.ylim([rmse.min()*0.97, rmse.max()])\n",
        "  plt.show()\n",
        "\n",
        "print(\"Defined the plot_the_model and plot_the_loss_curve functions.\")"
      ],
      "execution_count": 300,
      "outputs": [
        {
          "output_type": "stream",
          "name": "stdout",
          "text": [
            "Defined the plot_the_model and plot_the_loss_curve functions.\n"
          ]
        }
      ]
    },
    {
      "cell_type": "markdown",
      "metadata": {
        "id": "E_azve9f8P1s"
      },
      "source": [
        "Определяем X, y (my_feature, label)"
      ]
    },
    {
      "cell_type": "code",
      "metadata": {
        "id": "NrySNbZiyBiH"
      },
      "source": [
        "my_feature = ([1.0, 2.0,  3.0,  4.0,  5.0,  6.0,  7.0,  8.0,  9.0, 10.0, 11.0, 12.0])\n",
        "my_label   = ([5.0, 8.8,  9.6, 14.2, 18.8, 19.5, 21.4, 26.8, 28.9, 32.0, 33.8, 38.2])"
      ],
      "execution_count": 301,
      "outputs": []
    },
    {
      "cell_type": "code",
      "metadata": {
        "colab": {
          "base_uri": "https://localhost:8080/"
        },
        "id": "kbQKisq5ygBd",
        "outputId": "748bab57-94ce-417e-c554-a724beecafd2"
      },
      "source": [
        "learning_rate=0.15\n",
        "epochs=40\n",
        "my_batch_size=12\n",
        "\n",
        "my_model = build_model(learning_rate)\n",
        "trained_weight, trained_bias, epochs, rmse = train_model(my_model, my_feature, \n",
        "                                                         my_label, epochs,\n",
        "                                                         my_batch_size)"
      ],
      "execution_count": 302,
      "outputs": [
        {
          "output_type": "stream",
          "name": "stdout",
          "text": [
            "Epoch 1/40\n"
          ]
        },
        {
          "output_type": "stream",
          "name": "stderr",
          "text": [
            "/usr/local/lib/python3.7/dist-packages/keras/optimizer_v2/optimizer_v2.py:356: UserWarning: The `lr` argument is deprecated, use `learning_rate` instead.\n",
            "  \"The `lr` argument is deprecated, use `learning_rate` instead.\")\n"
          ]
        },
        {
          "output_type": "stream",
          "name": "stdout",
          "text": [
            "1/1 [==============================] - 0s 295ms/step - loss: 503.4810 - root_mean_squared_error: 22.4384\n",
            "Epoch 2/40\n",
            "1/1 [==============================] - 0s 6ms/step - loss: 343.2309 - root_mean_squared_error: 18.5265\n",
            "Epoch 3/40\n",
            "1/1 [==============================] - 0s 5ms/step - loss: 254.7260 - root_mean_squared_error: 15.9601\n",
            "Epoch 4/40\n",
            "1/1 [==============================] - 0s 7ms/step - loss: 194.8823 - root_mean_squared_error: 13.9600\n",
            "Epoch 5/40\n",
            "1/1 [==============================] - 0s 5ms/step - loss: 151.1450 - root_mean_squared_error: 12.2941\n",
            "Epoch 6/40\n",
            "1/1 [==============================] - 0s 6ms/step - loss: 117.9013 - root_mean_squared_error: 10.8582\n",
            "Epoch 7/40\n",
            "1/1 [==============================] - 0s 13ms/step - loss: 92.0806 - root_mean_squared_error: 9.5959\n",
            "Epoch 8/40\n",
            "1/1 [==============================] - 0s 14ms/step - loss: 71.7850 - root_mean_squared_error: 8.4726\n",
            "Epoch 9/40\n",
            "1/1 [==============================] - 0s 6ms/step - loss: 55.7409 - root_mean_squared_error: 7.4660\n",
            "Epoch 10/40\n",
            "1/1 [==============================] - 0s 7ms/step - loss: 43.0406 - root_mean_squared_error: 6.5605\n",
            "Epoch 11/40\n",
            "1/1 [==============================] - 0s 5ms/step - loss: 33.0070 - root_mean_squared_error: 5.7452\n",
            "Epoch 12/40\n",
            "1/1 [==============================] - 0s 7ms/step - loss: 25.1170 - root_mean_squared_error: 5.0117\n",
            "Epoch 13/40\n",
            "1/1 [==============================] - 0s 7ms/step - loss: 18.9562 - root_mean_squared_error: 4.3539\n",
            "Epoch 14/40\n",
            "1/1 [==============================] - 0s 6ms/step - loss: 14.1891 - root_mean_squared_error: 3.7668\n",
            "Epoch 15/40\n",
            "1/1 [==============================] - 0s 10ms/step - loss: 10.5411 - root_mean_squared_error: 3.2467\n",
            "Epoch 16/40\n",
            "1/1 [==============================] - 0s 4ms/step - loss: 7.7855 - root_mean_squared_error: 2.7903\n",
            "Epoch 17/40\n",
            "1/1 [==============================] - 0s 5ms/step - loss: 5.7346 - root_mean_squared_error: 2.3947\n",
            "Epoch 18/40\n",
            "1/1 [==============================] - 0s 10ms/step - loss: 4.2333 - root_mean_squared_error: 2.0575\n",
            "Epoch 19/40\n",
            "1/1 [==============================] - 0s 4ms/step - loss: 3.1545 - root_mean_squared_error: 1.7761\n",
            "Epoch 20/40\n",
            "1/1 [==============================] - 0s 8ms/step - loss: 2.3948 - root_mean_squared_error: 1.5475\n",
            "Epoch 21/40\n",
            "1/1 [==============================] - 0s 4ms/step - loss: 1.8715 - root_mean_squared_error: 1.3680\n",
            "Epoch 22/40\n",
            "1/1 [==============================] - 0s 4ms/step - loss: 1.5196 - root_mean_squared_error: 1.2327\n",
            "Epoch 23/40\n",
            "1/1 [==============================] - 0s 12ms/step - loss: 1.2890 - root_mean_squared_error: 1.1353\n",
            "Epoch 24/40\n",
            "1/1 [==============================] - 0s 3ms/step - loss: 1.1420 - root_mean_squared_error: 1.0687\n",
            "Epoch 25/40\n",
            "1/1 [==============================] - 0s 4ms/step - loss: 1.0510 - root_mean_squared_error: 1.0252\n",
            "Epoch 26/40\n",
            "1/1 [==============================] - 0s 4ms/step - loss: 0.9964 - root_mean_squared_error: 0.9982\n",
            "Epoch 27/40\n",
            "1/1 [==============================] - 0s 4ms/step - loss: 0.9646 - root_mean_squared_error: 0.9821\n",
            "Epoch 28/40\n",
            "1/1 [==============================] - 0s 4ms/step - loss: 0.9465 - root_mean_squared_error: 0.9729\n",
            "Epoch 29/40\n",
            "1/1 [==============================] - 0s 5ms/step - loss: 0.9365 - root_mean_squared_error: 0.9677\n",
            "Epoch 30/40\n",
            "1/1 [==============================] - 0s 5ms/step - loss: 0.9310 - root_mean_squared_error: 0.9649\n",
            "Epoch 31/40\n",
            "1/1 [==============================] - 0s 5ms/step - loss: 0.9278 - root_mean_squared_error: 0.9632\n",
            "Epoch 32/40\n",
            "1/1 [==============================] - 0s 5ms/step - loss: 0.9258 - root_mean_squared_error: 0.9622\n",
            "Epoch 33/40\n",
            "1/1 [==============================] - 0s 5ms/step - loss: 0.9243 - root_mean_squared_error: 0.9614\n",
            "Epoch 34/40\n",
            "1/1 [==============================] - 0s 6ms/step - loss: 0.9231 - root_mean_squared_error: 0.9608\n",
            "Epoch 35/40\n",
            "1/1 [==============================] - 0s 6ms/step - loss: 0.9220 - root_mean_squared_error: 0.9602\n",
            "Epoch 36/40\n",
            "1/1 [==============================] - 0s 5ms/step - loss: 0.9209 - root_mean_squared_error: 0.9596\n",
            "Epoch 37/40\n",
            "1/1 [==============================] - 0s 6ms/step - loss: 0.9198 - root_mean_squared_error: 0.9591\n",
            "Epoch 38/40\n",
            "1/1 [==============================] - 0s 6ms/step - loss: 0.9187 - root_mean_squared_error: 0.9585\n",
            "Epoch 39/40\n",
            "1/1 [==============================] - 0s 5ms/step - loss: 0.9175 - root_mean_squared_error: 0.9579\n",
            "Epoch 40/40\n",
            "1/1 [==============================] - 0s 5ms/step - loss: 0.9163 - root_mean_squared_error: 0.9572\n"
          ]
        }
      ]
    },
    {
      "cell_type": "code",
      "metadata": {
        "colab": {
          "base_uri": "https://localhost:8080/",
          "height": 0
        },
        "id": "x8bo1OrR6Kux",
        "outputId": "61c7aeee-fd7e-49dc-e474-b7fcc125c2da"
      },
      "source": [
        "plot_the_loss_curve(epochs, rmse)"
      ],
      "execution_count": 303,
      "outputs": [
        {
          "output_type": "display_data",
          "data": {
            "image/png": "[encoded data removed]",
            "text/plain": [
              "<Figure size 432x288 with 1 Axes>"
            ]
          },
          "metadata": {
            "needs_background": "light"
          }
        }
      ]
    },
    {
      "cell_type": "markdown",
      "metadata": {
        "id": "dIZJHMiG-PUJ"
      },
      "source": [
        "# ***Решение задачи классификации***"
      ]
    },
    {
      "cell_type": "code",
      "metadata": {
        "colab": {
          "base_uri": "https://localhost:8080/"
        },
        "id": "NYZxAe3ZbY3_",
        "outputId": "2282ccb9-a440-42bf-8008-5202fe848e29"
      },
      "source": [
        "!ls"
      ],
      "execution_count": 334,
      "outputs": [
        {
          "output_type": "stream",
          "name": "stdout",
          "text": [
            "ecoli  ecoli.zip  sample_data\n"
          ]
        }
      ]
    },
    {
      "cell_type": "code",
      "metadata": {
        "colab": {
          "base_uri": "https://localhost:8080/"
        },
        "id": "RzMfrd1SbIz4",
        "outputId": "e4e598b3-8d27-41c8-9220-a211fb503faf"
      },
      "source": [
        "!unzip \"balance.zip\" -d \"balance\""
      ],
      "execution_count": 335,
      "outputs": [
        {
          "output_type": "stream",
          "name": "stdout",
          "text": [
            "Archive:  balance.zip\n",
            "  inflating: balance/balance.dat     \n"
          ]
        }
      ]
    },
    {
      "cell_type": "code",
      "metadata": {
        "id": "3Lqy5E69bnHx"
      },
      "source": [
        "FILE_PATH = '/content/balance'\n",
        "MAIN_FILE_NAME = 'balance.dat'\n",
        "\n",
        "data = load_keel('/content/balance/balance.dat')\n",
        "\n",
        "balance = data"
      ],
      "execution_count": 336,
      "outputs": []
    },
    {
      "cell_type": "code",
      "metadata": {
        "id": "OUKWa5sBICHh"
      },
      "source": [
        "# Генерация названий строк\n",
        "balance_names = np.array(['Balance{}'.format(i) for i in range(data.X.shape[0])])"
      ],
      "execution_count": 337,
      "outputs": []
    },
    {
      "cell_type": "code",
      "metadata": {
        "colab": {
          "base_uri": "https://localhost:8080/",
          "height": 419
        },
        "id": "Byb6qEABD3M1",
        "outputId": "e08965fb-52e6-4acc-9df0-df87e0a57f40"
      },
      "source": [
        "data = pd.DataFrame(data.X, columns=data.inputs, index=balance_names)\n",
        "data"
      ],
      "execution_count": 338,
      "outputs": [
        {
          "output_type": "execute_result",
          "data": {
            "text/html": [
              "<div>\n",
              "<style scoped>\n",
              "    .dataframe tbody tr th:only-of-type {\n",
              "        vertical-align: middle;\n",
              "    }\n",
              "\n",
              "    .dataframe tbody tr th {\n",
              "        vertical-align: top;\n",
              "    }\n",
              "\n",
              "    .dataframe thead th {\n",
              "        text-align: right;\n",
              "    }\n",
              "</style>\n",
              "<table border=\"1\" class=\"dataframe\">\n",
              "  <thead>\n",
              "    <tr style=\"text-align: right;\">\n",
              "      <th></th>\n",
              "      <th>Left-weight</th>\n",
              "      <th>Left-distance</th>\n",
              "      <th>Right-weight</th>\n",
              "      <th>Right-distance</th>\n",
              "    </tr>\n",
              "  </thead>\n",
              "  <tbody>\n",
              "    <tr>\n",
              "      <th>Balance0</th>\n",
              "      <td>1.0</td>\n",
              "      <td>1.0</td>\n",
              "      <td>1.0</td>\n",
              "      <td>1.0</td>\n",
              "    </tr>\n",
              "    <tr>\n",
              "      <th>Balance1</th>\n",
              "      <td>1.0</td>\n",
              "      <td>1.0</td>\n",
              "      <td>1.0</td>\n",
              "      <td>2.0</td>\n",
              "    </tr>\n",
              "    <tr>\n",
              "      <th>Balance2</th>\n",
              "      <td>1.0</td>\n",
              "      <td>1.0</td>\n",
              "      <td>1.0</td>\n",
              "      <td>3.0</td>\n",
              "    </tr>\n",
              "    <tr>\n",
              "      <th>Balance3</th>\n",
              "      <td>1.0</td>\n",
              "      <td>1.0</td>\n",
              "      <td>1.0</td>\n",
              "      <td>4.0</td>\n",
              "    </tr>\n",
              "    <tr>\n",
              "      <th>Balance4</th>\n",
              "      <td>1.0</td>\n",
              "      <td>1.0</td>\n",
              "      <td>1.0</td>\n",
              "      <td>5.0</td>\n",
              "    </tr>\n",
              "    <tr>\n",
              "      <th>...</th>\n",
              "      <td>...</td>\n",
              "      <td>...</td>\n",
              "      <td>...</td>\n",
              "      <td>...</td>\n",
              "    </tr>\n",
              "    <tr>\n",
              "      <th>Balance620</th>\n",
              "      <td>5.0</td>\n",
              "      <td>4.0</td>\n",
              "      <td>2.0</td>\n",
              "      <td>4.0</td>\n",
              "    </tr>\n",
              "    <tr>\n",
              "      <th>Balance621</th>\n",
              "      <td>5.0</td>\n",
              "      <td>4.0</td>\n",
              "      <td>3.0</td>\n",
              "      <td>1.0</td>\n",
              "    </tr>\n",
              "    <tr>\n",
              "      <th>Balance622</th>\n",
              "      <td>5.0</td>\n",
              "      <td>4.0</td>\n",
              "      <td>3.0</td>\n",
              "      <td>4.0</td>\n",
              "    </tr>\n",
              "    <tr>\n",
              "      <th>Balance623</th>\n",
              "      <td>5.0</td>\n",
              "      <td>5.0</td>\n",
              "      <td>3.0</td>\n",
              "      <td>4.0</td>\n",
              "    </tr>\n",
              "    <tr>\n",
              "      <th>Balance624</th>\n",
              "      <td>5.0</td>\n",
              "      <td>5.0</td>\n",
              "      <td>5.0</td>\n",
              "      <td>3.0</td>\n",
              "    </tr>\n",
              "  </tbody>\n",
              "</table>\n",
              "<p>625 rows × 4 columns</p>\n",
              "</div>"
            ],
            "text/plain": [
              "            Left-weight  Left-distance  Right-weight  Right-distance\n",
              "Balance0            1.0            1.0           1.0             1.0\n",
              "Balance1            1.0            1.0           1.0             2.0\n",
              "Balance2            1.0            1.0           1.0             3.0\n",
              "Balance3            1.0            1.0           1.0             4.0\n",
              "Balance4            1.0            1.0           1.0             5.0\n",
              "...                 ...            ...           ...             ...\n",
              "Balance620          5.0            4.0           2.0             4.0\n",
              "Balance621          5.0            4.0           3.0             1.0\n",
              "Balance622          5.0            4.0           3.0             4.0\n",
              "Balance623          5.0            5.0           3.0             4.0\n",
              "Balance624          5.0            5.0           5.0             3.0\n",
              "\n",
              "[625 rows x 4 columns]"
            ]
          },
          "metadata": {},
          "execution_count": 338
        }
      ]
    },
    {
      "cell_type": "markdown",
      "metadata": {
        "id": "2XQoTJYfJUKn"
      },
      "source": [
        "*Теперь нормализуем данные*"
      ]
    },
    {
      "cell_type": "code",
      "metadata": {
        "id": "58KMp_ub_c7B"
      },
      "source": [
        "from sklearn.preprocessing import MinMaxScaler"
      ],
      "execution_count": 306,
      "outputs": []
    },
    {
      "cell_type": "code",
      "metadata": {
        "id": "6hJVDMYl_fSO"
      },
      "source": [
        "data_scaled = MinMaxScaler().fit_transform(data)"
      ],
      "execution_count": 339,
      "outputs": []
    },
    {
      "cell_type": "code",
      "metadata": {
        "colab": {
          "base_uri": "https://localhost:8080/",
          "height": 419
        },
        "id": "KuMmSD2EX2mQ",
        "outputId": "566983f8-b6fd-4bcb-fc64-01bf713ef8cb"
      },
      "source": [
        "pd.DataFrame(data_scaled, columns=balance.inputs, index=balance_names)"
      ],
      "execution_count": 340,
      "outputs": [
        {
          "output_type": "execute_result",
          "data": {
            "text/html": [
              "<div>\n",
              "<style scoped>\n",
              "    .dataframe tbody tr th:only-of-type {\n",
              "        vertical-align: middle;\n",
              "    }\n",
              "\n",
              "    .dataframe tbody tr th {\n",
              "        vertical-align: top;\n",
              "    }\n",
              "\n",
              "    .dataframe thead th {\n",
              "        text-align: right;\n",
              "    }\n",
              "</style>\n",
              "<table border=\"1\" class=\"dataframe\">\n",
              "  <thead>\n",
              "    <tr style=\"text-align: right;\">\n",
              "      <th></th>\n",
              "      <th>Left-weight</th>\n",
              "      <th>Left-distance</th>\n",
              "      <th>Right-weight</th>\n",
              "      <th>Right-distance</th>\n",
              "    </tr>\n",
              "  </thead>\n",
              "  <tbody>\n",
              "    <tr>\n",
              "      <th>Balance0</th>\n",
              "      <td>0.0</td>\n",
              "      <td>0.00</td>\n",
              "      <td>0.00</td>\n",
              "      <td>0.00</td>\n",
              "    </tr>\n",
              "    <tr>\n",
              "      <th>Balance1</th>\n",
              "      <td>0.0</td>\n",
              "      <td>0.00</td>\n",
              "      <td>0.00</td>\n",
              "      <td>0.25</td>\n",
              "    </tr>\n",
              "    <tr>\n",
              "      <th>Balance2</th>\n",
              "      <td>0.0</td>\n",
              "      <td>0.00</td>\n",
              "      <td>0.00</td>\n",
              "      <td>0.50</td>\n",
              "    </tr>\n",
              "    <tr>\n",
              "      <th>Balance3</th>\n",
              "      <td>0.0</td>\n",
              "      <td>0.00</td>\n",
              "      <td>0.00</td>\n",
              "      <td>0.75</td>\n",
              "    </tr>\n",
              "    <tr>\n",
              "      <th>Balance4</th>\n",
              "      <td>0.0</td>\n",
              "      <td>0.00</td>\n",
              "      <td>0.00</td>\n",
              "      <td>1.00</td>\n",
              "    </tr>\n",
              "    <tr>\n",
              "      <th>...</th>\n",
              "      <td>...</td>\n",
              "      <td>...</td>\n",
              "      <td>...</td>\n",
              "      <td>...</td>\n",
              "    </tr>\n",
              "    <tr>\n",
              "      <th>Balance620</th>\n",
              "      <td>1.0</td>\n",
              "      <td>0.75</td>\n",
              "      <td>0.25</td>\n",
              "      <td>0.75</td>\n",
              "    </tr>\n",
              "    <tr>\n",
              "      <th>Balance621</th>\n",
              "      <td>1.0</td>\n",
              "      <td>0.75</td>\n",
              "      <td>0.50</td>\n",
              "      <td>0.00</td>\n",
              "    </tr>\n",
              "    <tr>\n",
              "      <th>Balance622</th>\n",
              "      <td>1.0</td>\n",
              "      <td>0.75</td>\n",
              "      <td>0.50</td>\n",
              "      <td>0.75</td>\n",
              "    </tr>\n",
              "    <tr>\n",
              "      <th>Balance623</th>\n",
              "      <td>1.0</td>\n",
              "      <td>1.00</td>\n",
              "      <td>0.50</td>\n",
              "      <td>0.75</td>\n",
              "    </tr>\n",
              "    <tr>\n",
              "      <th>Balance624</th>\n",
              "      <td>1.0</td>\n",
              "      <td>1.00</td>\n",
              "      <td>1.00</td>\n",
              "      <td>0.50</td>\n",
              "    </tr>\n",
              "  </tbody>\n",
              "</table>\n",
              "<p>625 rows × 4 columns</p>\n",
              "</div>"
            ],
            "text/plain": [
              "            Left-weight  Left-distance  Right-weight  Right-distance\n",
              "Balance0            0.0           0.00          0.00            0.00\n",
              "Balance1            0.0           0.00          0.00            0.25\n",
              "Balance2            0.0           0.00          0.00            0.50\n",
              "Balance3            0.0           0.00          0.00            0.75\n",
              "Balance4            0.0           0.00          0.00            1.00\n",
              "...                 ...            ...           ...             ...\n",
              "Balance620          1.0           0.75          0.25            0.75\n",
              "Balance621          1.0           0.75          0.50            0.00\n",
              "Balance622          1.0           0.75          0.50            0.75\n",
              "Balance623          1.0           1.00          0.50            0.75\n",
              "Balance624          1.0           1.00          1.00            0.50\n",
              "\n",
              "[625 rows x 4 columns]"
            ]
          },
          "metadata": {},
          "execution_count": 340
        }
      ]
    },
    {
      "cell_type": "code",
      "metadata": {
        "colab": {
          "base_uri": "https://localhost:8080/"
        },
        "id": "03WF3d1P0akQ",
        "outputId": "b5a3a9c5-da00-4ec7-8ee3-968810fc000e"
      },
      "source": [
        "def build_model(my_learning_rate):\n",
        "  \"\"\"Создание классификатора\"\"\"\n",
        "  model = tf.keras.models.Sequential()\n",
        "\n",
        "  model.add(tf.keras.layers.Dense(units=1, \n",
        "                                  input_shape=(4,)))\n",
        "  # Выходной слой с числом нейронов по числу классов\n",
        "  model.add(tf.keras.layers.Dense(10))\n",
        "  model.add(tf.keras.layers.Dense(4))\n",
        "\n",
        "  # Лосс-функция уже другая \n",
        "  model.compile(optimizer=tf.optimizers.Adam(lr=my_learning_rate),\n",
        "              loss=tf.keras.losses.SparseCategoricalCrossentropy(from_logits=True),\n",
        "              metrics=['accuracy'])\n",
        "\n",
        "  return model  \n",
        "\n",
        "print(\"Defined create_model\")"
      ],
      "execution_count": 345,
      "outputs": [
        {
          "output_type": "stream",
          "name": "stdout",
          "text": [
            "Defined create_model\n"
          ]
        }
      ]
    },
    {
      "cell_type": "code",
      "metadata": {
        "colab": {
          "base_uri": "https://localhost:8080/"
        },
        "id": "7jeKC9Fi-aW3",
        "outputId": "d4b798b6-477c-4258-9883-a72f1d2fb1e6"
      },
      "source": [
        "def train_model(model, feature, label, epochs, batch_size):\n",
        "  \"\"\"Обучение модели\"\"\"\n",
        "\n",
        "  history = model.fit(x=feature,\n",
        "                      y=label,\n",
        "                      batch_size=batch_size,\n",
        "                      epochs=epochs)\n",
        "\n",
        "  trained_weight = model.get_weights()[0]\n",
        "  trained_bias = model.get_weights()[1]\n",
        "\n",
        "  epochs = history.epoch\n",
        "\n",
        "  hist = pd.DataFrame(history.history)\n",
        "\n",
        "  acc = hist[\"accuracy\"]\n",
        "\n",
        "  return trained_weight, trained_bias, epochs, acc\n",
        "\n",
        "print(\"Defined train_model\")"
      ],
      "execution_count": 310,
      "outputs": [
        {
          "output_type": "stream",
          "name": "stdout",
          "text": [
            "Defined train_model\n"
          ]
        }
      ]
    },
    {
      "cell_type": "code",
      "metadata": {
        "colab": {
          "base_uri": "https://localhost:8080/"
        },
        "id": "iijN_vf1SQUL",
        "outputId": "d604f213-b39c-46fd-a0bd-6234d99901cb"
      },
      "source": [
        "def plot_the_loss_curve(epochs, acc):\n",
        "  \"\"\"График лосс-значений/эпохи\"\"\"\n",
        "\n",
        "  plt.figure()\n",
        "  plt.xlabel(\"Epoch\")\n",
        "  plt.ylabel(\"Sparse Categorical Crossentropy \")\n",
        "\n",
        "  plt.plot(epochs, acc, label=\"Accuracy\")\n",
        "  plt.legend()\n",
        "  plt.ylim([acc.min()*0.97, acc.max()])\n",
        "  plt.show()\n",
        "\n",
        "print(\"Defined the plot_the_model and plot_the_loss_curve functions.\")"
      ],
      "execution_count": 311,
      "outputs": [
        {
          "output_type": "stream",
          "name": "stdout",
          "text": [
            "Defined the plot_the_model and plot_the_loss_curve functions.\n"
          ]
        }
      ]
    },
    {
      "cell_type": "code",
      "metadata": {
        "id": "1dl12vkJ8dBR"
      },
      "source": [
        "x = data_scaled\n",
        "y = balance.y"
      ],
      "execution_count": 343,
      "outputs": []
    },
    {
      "cell_type": "code",
      "metadata": {
        "colab": {
          "base_uri": "https://localhost:8080/"
        },
        "id": "JjKJf-cDza8O",
        "outputId": "20b4505a-59b8-4157-ddc0-b159236e5737"
      },
      "source": [
        "learning_rate=0.001\n",
        "epochs=100\n",
        "my_batch_size= 15\n",
        "\n",
        "my_model = build_model(learning_rate)\n",
        "trained_weight, trained_bias, epochs, acc = train_model(my_model, x, \n",
        "                                                        y, epochs,\n",
        "                                                        my_batch_size)"
      ],
      "execution_count": 348,
      "outputs": [
        {
          "output_type": "stream",
          "name": "stderr",
          "text": [
            "/usr/local/lib/python3.7/dist-packages/keras/optimizer_v2/optimizer_v2.py:356: UserWarning: The `lr` argument is deprecated, use `learning_rate` instead.\n",
            "  \"The `lr` argument is deprecated, use `learning_rate` instead.\")\n"
          ]
        },
        {
          "output_type": "stream",
          "name": "stdout",
          "text": [
            "Epoch 1/100\n",
            "42/42 [==============================] - 0s 2ms/step - loss: 1.3612 - accuracy: 0.2640\n",
            "Epoch 2/100\n",
            "42/42 [==============================] - 0s 2ms/step - loss: 1.2329 - accuracy: 0.4704\n",
            "Epoch 3/100\n",
            "42/42 [==============================] - 0s 1ms/step - loss: 1.1113 - accuracy: 0.5760\n",
            "Epoch 4/100\n",
            "42/42 [==============================] - 0s 2ms/step - loss: 1.0197 - accuracy: 0.5296\n",
            "Epoch 5/100\n",
            "42/42 [==============================] - 0s 2ms/step - loss: 0.9711 - accuracy: 0.5376\n",
            "Epoch 6/100\n",
            "42/42 [==============================] - 0s 2ms/step - loss: 0.9443 - accuracy: 0.5488\n",
            "Epoch 7/100\n",
            "42/42 [==============================] - 0s 2ms/step - loss: 0.9278 - accuracy: 0.5760\n",
            "Epoch 8/100\n",
            "42/42 [==============================] - 0s 2ms/step - loss: 0.9144 - accuracy: 0.6096\n",
            "Epoch 9/100\n",
            "42/42 [==============================] - 0s 2ms/step - loss: 0.9010 - accuracy: 0.6160\n",
            "Epoch 10/100\n",
            "42/42 [==============================] - 0s 2ms/step - loss: 0.8864 - accuracy: 0.6320\n",
            "Epoch 11/100\n",
            "42/42 [==============================] - 0s 2ms/step - loss: 0.8710 - accuracy: 0.6528\n",
            "Epoch 12/100\n",
            "42/42 [==============================] - 0s 2ms/step - loss: 0.8549 - accuracy: 0.6624\n",
            "Epoch 13/100\n",
            "42/42 [==============================] - 0s 1ms/step - loss: 0.8340 - accuracy: 0.6800\n",
            "Epoch 14/100\n",
            "42/42 [==============================] - 0s 1ms/step - loss: 0.8117 - accuracy: 0.6944\n",
            "Epoch 15/100\n",
            "42/42 [==============================] - 0s 1ms/step - loss: 0.7864 - accuracy: 0.7072\n",
            "Epoch 16/100\n",
            "42/42 [==============================] - 0s 2ms/step - loss: 0.7584 - accuracy: 0.7184\n",
            "Epoch 17/100\n",
            "42/42 [==============================] - 0s 1ms/step - loss: 0.7288 - accuracy: 0.7360\n",
            "Epoch 18/100\n",
            "42/42 [==============================] - 0s 2ms/step - loss: 0.6976 - accuracy: 0.7472\n",
            "Epoch 19/100\n",
            "42/42 [==============================] - 0s 1ms/step - loss: 0.6659 - accuracy: 0.7584\n",
            "Epoch 20/100\n",
            "42/42 [==============================] - 0s 2ms/step - loss: 0.6334 - accuracy: 0.7776\n",
            "Epoch 21/100\n",
            "42/42 [==============================] - 0s 2ms/step - loss: 0.6017 - accuracy: 0.7904\n",
            "Epoch 22/100\n",
            "42/42 [==============================] - 0s 1ms/step - loss: 0.5709 - accuracy: 0.8048\n",
            "Epoch 23/100\n",
            "42/42 [==============================] - 0s 1ms/step - loss: 0.5418 - accuracy: 0.8272\n",
            "Epoch 24/100\n",
            "42/42 [==============================] - 0s 2ms/step - loss: 0.5151 - accuracy: 0.8272\n",
            "Epoch 25/100\n",
            "42/42 [==============================] - 0s 2ms/step - loss: 0.4908 - accuracy: 0.8400\n",
            "Epoch 26/100\n",
            "42/42 [==============================] - 0s 1ms/step - loss: 0.4674 - accuracy: 0.8496\n",
            "Epoch 27/100\n",
            "42/42 [==============================] - 0s 1ms/step - loss: 0.4458 - accuracy: 0.8544\n",
            "Epoch 28/100\n",
            "42/42 [==============================] - 0s 1ms/step - loss: 0.4266 - accuracy: 0.8624\n",
            "Epoch 29/100\n",
            "42/42 [==============================] - 0s 2ms/step - loss: 0.4091 - accuracy: 0.8688\n",
            "Epoch 30/100\n",
            "42/42 [==============================] - 0s 2ms/step - loss: 0.3936 - accuracy: 0.8736\n",
            "Epoch 31/100\n",
            "42/42 [==============================] - 0s 1ms/step - loss: 0.3797 - accuracy: 0.8768\n",
            "Epoch 32/100\n",
            "42/42 [==============================] - 0s 2ms/step - loss: 0.3678 - accuracy: 0.8768\n",
            "Epoch 33/100\n",
            "42/42 [==============================] - 0s 1ms/step - loss: 0.3561 - accuracy: 0.8768\n",
            "Epoch 34/100\n",
            "42/42 [==============================] - 0s 1ms/step - loss: 0.3462 - accuracy: 0.8768\n",
            "Epoch 35/100\n",
            "42/42 [==============================] - 0s 1ms/step - loss: 0.3370 - accuracy: 0.8784\n",
            "Epoch 36/100\n",
            "42/42 [==============================] - 0s 1ms/step - loss: 0.3295 - accuracy: 0.8768\n",
            "Epoch 37/100\n",
            "42/42 [==============================] - 0s 1ms/step - loss: 0.3220 - accuracy: 0.8752\n",
            "Epoch 38/100\n",
            "42/42 [==============================] - 0s 2ms/step - loss: 0.3157 - accuracy: 0.8752\n",
            "Epoch 39/100\n",
            "42/42 [==============================] - 0s 1ms/step - loss: 0.3103 - accuracy: 0.8752\n",
            "Epoch 40/100\n",
            "42/42 [==============================] - 0s 1ms/step - loss: 0.3063 - accuracy: 0.8736\n",
            "Epoch 41/100\n",
            "42/42 [==============================] - 0s 1ms/step - loss: 0.3001 - accuracy: 0.8784\n",
            "Epoch 42/100\n",
            "42/42 [==============================] - 0s 1ms/step - loss: 0.2968 - accuracy: 0.8768\n",
            "Epoch 43/100\n",
            "42/42 [==============================] - 0s 2ms/step - loss: 0.2927 - accuracy: 0.8752\n",
            "Epoch 44/100\n",
            "42/42 [==============================] - 0s 1ms/step - loss: 0.2908 - accuracy: 0.8800\n",
            "Epoch 45/100\n",
            "42/42 [==============================] - 0s 2ms/step - loss: 0.2865 - accuracy: 0.8752\n",
            "Epoch 46/100\n",
            "42/42 [==============================] - 0s 1ms/step - loss: 0.2844 - accuracy: 0.8704\n",
            "Epoch 47/100\n",
            "42/42 [==============================] - 0s 2ms/step - loss: 0.2819 - accuracy: 0.8720\n",
            "Epoch 48/100\n",
            "42/42 [==============================] - 0s 1ms/step - loss: 0.2790 - accuracy: 0.8784\n",
            "Epoch 49/100\n",
            "42/42 [==============================] - 0s 1ms/step - loss: 0.2775 - accuracy: 0.8816\n",
            "Epoch 50/100\n",
            "42/42 [==============================] - 0s 1ms/step - loss: 0.2764 - accuracy: 0.8736\n",
            "Epoch 51/100\n",
            "42/42 [==============================] - 0s 1ms/step - loss: 0.2730 - accuracy: 0.8752\n",
            "Epoch 52/100\n",
            "42/42 [==============================] - 0s 1ms/step - loss: 0.2722 - accuracy: 0.8768\n",
            "Epoch 53/100\n",
            "42/42 [==============================] - 0s 1ms/step - loss: 0.2702 - accuracy: 0.8784\n",
            "Epoch 54/100\n",
            "42/42 [==============================] - 0s 1ms/step - loss: 0.2697 - accuracy: 0.8672\n",
            "Epoch 55/100\n",
            "42/42 [==============================] - 0s 1ms/step - loss: 0.2676 - accuracy: 0.8768\n",
            "Epoch 56/100\n",
            "42/42 [==============================] - 0s 1ms/step - loss: 0.2665 - accuracy: 0.8736\n",
            "Epoch 57/100\n",
            "42/42 [==============================] - 0s 1ms/step - loss: 0.2667 - accuracy: 0.8736\n",
            "Epoch 58/100\n",
            "42/42 [==============================] - 0s 1ms/step - loss: 0.2660 - accuracy: 0.8544\n",
            "Epoch 59/100\n",
            "42/42 [==============================] - 0s 2ms/step - loss: 0.2647 - accuracy: 0.8704\n",
            "Epoch 60/100\n",
            "42/42 [==============================] - 0s 2ms/step - loss: 0.2630 - accuracy: 0.8720\n",
            "Epoch 61/100\n",
            "42/42 [==============================] - 0s 1ms/step - loss: 0.2630 - accuracy: 0.8768\n",
            "Epoch 62/100\n",
            "42/42 [==============================] - 0s 2ms/step - loss: 0.2616 - accuracy: 0.8768\n",
            "Epoch 63/100\n",
            "42/42 [==============================] - 0s 1ms/step - loss: 0.2606 - accuracy: 0.8752\n",
            "Epoch 64/100\n",
            "42/42 [==============================] - 0s 2ms/step - loss: 0.2605 - accuracy: 0.8720\n",
            "Epoch 65/100\n",
            "42/42 [==============================] - 0s 2ms/step - loss: 0.2600 - accuracy: 0.8672\n",
            "Epoch 66/100\n",
            "42/42 [==============================] - 0s 2ms/step - loss: 0.2589 - accuracy: 0.8752\n",
            "Epoch 67/100\n",
            "42/42 [==============================] - 0s 2ms/step - loss: 0.2588 - accuracy: 0.8784\n",
            "Epoch 68/100\n",
            "42/42 [==============================] - 0s 1ms/step - loss: 0.2586 - accuracy: 0.8768\n",
            "Epoch 69/100\n",
            "42/42 [==============================] - 0s 2ms/step - loss: 0.2577 - accuracy: 0.8784\n",
            "Epoch 70/100\n",
            "42/42 [==============================] - 0s 2ms/step - loss: 0.2571 - accuracy: 0.8720\n",
            "Epoch 71/100\n",
            "42/42 [==============================] - 0s 2ms/step - loss: 0.2586 - accuracy: 0.8720\n",
            "Epoch 72/100\n",
            "42/42 [==============================] - 0s 2ms/step - loss: 0.2584 - accuracy: 0.8768\n",
            "Epoch 73/100\n",
            "42/42 [==============================] - 0s 2ms/step - loss: 0.2572 - accuracy: 0.8720\n",
            "Epoch 74/100\n",
            "42/42 [==============================] - 0s 2ms/step - loss: 0.2556 - accuracy: 0.8704\n",
            "Epoch 75/100\n",
            "42/42 [==============================] - 0s 2ms/step - loss: 0.2564 - accuracy: 0.8672\n",
            "Epoch 76/100\n",
            "42/42 [==============================] - 0s 2ms/step - loss: 0.2561 - accuracy: 0.8720\n",
            "Epoch 77/100\n",
            "42/42 [==============================] - 0s 2ms/step - loss: 0.2558 - accuracy: 0.8784\n",
            "Epoch 78/100\n",
            "42/42 [==============================] - 0s 2ms/step - loss: 0.2554 - accuracy: 0.8800\n",
            "Epoch 79/100\n",
            "42/42 [==============================] - 0s 2ms/step - loss: 0.2554 - accuracy: 0.8752\n",
            "Epoch 80/100\n",
            "42/42 [==============================] - 0s 2ms/step - loss: 0.2549 - accuracy: 0.8720\n",
            "Epoch 81/100\n",
            "42/42 [==============================] - 0s 2ms/step - loss: 0.2546 - accuracy: 0.8848\n",
            "Epoch 82/100\n",
            "42/42 [==============================] - 0s 2ms/step - loss: 0.2545 - accuracy: 0.8768\n",
            "Epoch 83/100\n",
            "42/42 [==============================] - 0s 1ms/step - loss: 0.2551 - accuracy: 0.8800\n",
            "Epoch 84/100\n",
            "42/42 [==============================] - 0s 1ms/step - loss: 0.2545 - accuracy: 0.8960\n",
            "Epoch 85/100\n",
            "42/42 [==============================] - 0s 2ms/step - loss: 0.2544 - accuracy: 0.8896\n",
            "Epoch 86/100\n",
            "42/42 [==============================] - 0s 1ms/step - loss: 0.2556 - accuracy: 0.8832\n",
            "Epoch 87/100\n",
            "42/42 [==============================] - 0s 2ms/step - loss: 0.2552 - accuracy: 0.8960\n",
            "Epoch 88/100\n",
            "42/42 [==============================] - 0s 2ms/step - loss: 0.2544 - accuracy: 0.8960\n",
            "Epoch 89/100\n",
            "42/42 [==============================] - 0s 2ms/step - loss: 0.2540 - accuracy: 0.9040\n",
            "Epoch 90/100\n",
            "42/42 [==============================] - 0s 1ms/step - loss: 0.2550 - accuracy: 0.9040\n",
            "Epoch 91/100\n",
            "42/42 [==============================] - 0s 2ms/step - loss: 0.2556 - accuracy: 0.8912\n",
            "Epoch 92/100\n",
            "42/42 [==============================] - 0s 2ms/step - loss: 0.2543 - accuracy: 0.8928\n",
            "Epoch 93/100\n",
            "42/42 [==============================] - 0s 2ms/step - loss: 0.2531 - accuracy: 0.9040\n",
            "Epoch 94/100\n",
            "42/42 [==============================] - 0s 2ms/step - loss: 0.2537 - accuracy: 0.9168\n",
            "Epoch 95/100\n",
            "42/42 [==============================] - 0s 2ms/step - loss: 0.2546 - accuracy: 0.9008\n",
            "Epoch 96/100\n",
            "42/42 [==============================] - 0s 2ms/step - loss: 0.2540 - accuracy: 0.9152\n",
            "Epoch 97/100\n",
            "42/42 [==============================] - 0s 2ms/step - loss: 0.2545 - accuracy: 0.9136\n",
            "Epoch 98/100\n",
            "42/42 [==============================] - 0s 2ms/step - loss: 0.2541 - accuracy: 0.9056\n",
            "Epoch 99/100\n",
            "42/42 [==============================] - 0s 2ms/step - loss: 0.2540 - accuracy: 0.9008\n",
            "Epoch 100/100\n",
            "42/42 [==============================] - 0s 2ms/step - loss: 0.2539 - accuracy: 0.9168\n"
          ]
        }
      ]
    },
    {
      "cell_type": "code",
      "metadata": {
        "colab": {
          "base_uri": "https://localhost:8080/",
          "height": 279
        },
        "id": "bkfjTJhqSqPx",
        "outputId": "bfa1dfad-7be1-4c51-9f38-f5dd899ea160"
      },
      "source": [
        "plot_the_loss_curve(epochs, acc)"
      ],
      "execution_count": 349,
      "outputs": [
        {
          "output_type": "display_data",
          "data": {
            "image/png": "[encoded data removed]",
            "text/plain": [
              "<Figure size 432x288 with 1 Axes>"
            ]
          },
          "metadata": {
            "needs_background": "light"
          }
        }
      ]
    },
    {
      "cell_type": "code",
      "metadata": {
        "id": "EOu6-STG2pB6"
      },
      "source": [
        "from sklearn.datasets import fetch_openml\n",
        "from sklearn.preprocessing import StandardScaler\n",
        "dataset = fetch_openml('har')\n",
        "X = StandardScaler().fit_transform(dataset.data)\n",
        "Y = dataset.target\n",
        "Y_new = []\n",
        "for i in range(len(Y)):\n",
        "  Y_new.append(int(Y[i]))"
      ],
      "execution_count": 350,
      "outputs": []
    },
    {
      "cell_type": "code",
      "metadata": {
        "id": "2iBESH4h32pK"
      },
      "source": [
        "from sklearn.svm import LinearSVC\n",
        "from sklearn.metrics import accuracy_score\n",
        "from sklearn.ensemble import RandomForestClassifier\n",
        "from sklearn.neighbors import KNeighborsClassifier\n",
        "from sklearn.model_selection import KFold"
      ],
      "execution_count": 351,
      "outputs": []
    },
    {
      "cell_type": "code",
      "metadata": {
        "id": "Gh7-R48Y34M0"
      },
      "source": [
        "from sklearn.model_selection import train_test_split\n",
        "features = X.shape[1]\n",
        "\n",
        "X_train, X_test, y_train, y_test = train_test_split(\n",
        "    X[:, :features], \n",
        "    Y, \n",
        "    test_size=0.3, \n",
        "    shuffle=True)"
      ],
      "execution_count": 352,
      "outputs": []
    },
    {
      "cell_type": "code",
      "metadata": {
        "colab": {
          "base_uri": "https://localhost:8080/"
        },
        "id": "NsmkW_0q4QUG",
        "outputId": "1336c78f-b92c-43be-c993-8e19dd865e41"
      },
      "source": [
        "kf = KFold(n_splits=5)\n",
        "accs = []\n",
        "for train_index, test_index in kf.split(X):\n",
        "  for i in range(0, 5):\n",
        "    X_train, X_test = X[train_index], X[test_index]\n",
        "    y_train, y_test = Y[train_index], Y[test_index]\n",
        "    model = LinearSVC(tol=1e1)\n",
        "    model.fit(X_train, y_train)\n",
        "    predicted = model.predict(X_test)\n",
        "    acc = accuracy_score(predicted, y_test)\n",
        "    accs.append(acc)\n",
        "print(np.mean(accs))"
      ],
      "execution_count": 353,
      "outputs": [
        {
          "output_type": "stream",
          "name": "stdout",
          "text": [
            "0.9354315932420774\n"
          ]
        }
      ]
    }
  ]
}